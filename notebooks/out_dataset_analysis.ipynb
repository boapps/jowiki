{
 "cells": [
  {
   "cell_type": "markdown",
   "id": "ceff8bec-e139-4185-b423-80a5a58677ce",
   "metadata": {},
   "source": [
    "# Output Dataset Analysis\n",
    "\n",
    "This notebook analyzes the final GoodWiki dataset to collect statistics."
   ]
  },
  {
   "cell_type": "code",
   "execution_count": 14,
   "id": "f39e2e3d-0983-4d15-bf2a-00cb6dd1078b",
   "metadata": {},
   "outputs": [],
   "source": [
    "import sys\n",
    "sys.path.append(\"..\")\n",
    "\n",
    "from collections import Counter\n",
    "import math\n",
    "import unicodedata\n",
    "\n",
    "from datasets import load_dataset\n",
    "from transformers import AutoTokenizer\n",
    "from tqdm.notebook import tqdm\n",
    "\n",
    "from src.utils import count_rows, get_batch"
   ]
  },
  {
   "cell_type": "code",
   "execution_count": 2,
   "id": "d0792430-8b74-4e81-986b-ec71c408f5a8",
   "metadata": {},
   "outputs": [],
   "source": [
    "tokenizer = AutoTokenizer.from_pretrained(\"facebook/opt-350m\")"
   ]
  },
  {
   "cell_type": "code",
   "execution_count": 3,
   "id": "1ed2a89c-d670-4764-8926-9afd5a682357",
   "metadata": {},
   "outputs": [
    {
     "data": {
      "text/plain": [
       "[2, 31414, 38, 101, 15162, 11637, 4]"
      ]
     },
     "execution_count": 3,
     "metadata": {},
     "output_type": "execute_result"
    }
   ],
   "source": [
    "tokenizer.encode(\"Hello I like apple pie.\")"
   ]
  },
  {
   "cell_type": "code",
   "execution_count": 4,
   "id": "1ce62e96-7d63-492e-9a3b-84ac95efc779",
   "metadata": {},
   "outputs": [],
   "source": [
    "DATA_FILENAME = \"../out/09_04_2023.parquet\""
   ]
  },
  {
   "cell_type": "code",
   "execution_count": 5,
   "id": "18b6c8ee-887b-417d-8def-c53d2aaa5896",
   "metadata": {
    "scrolled": true
   },
   "outputs": [
    {
     "data": {
      "text/plain": [
       "44754"
      ]
     },
     "execution_count": 5,
     "metadata": {},
     "output_type": "execute_result"
    }
   ],
   "source": [
    "row_count = count_rows(DATA_FILENAME, 256)\n",
    "row_count"
   ]
  },
  {
   "cell_type": "code",
   "execution_count": 6,
   "id": "7b78ddda-ed3e-4cd7-afa2-d5487d105106",
   "metadata": {},
   "outputs": [
    {
     "data": {
      "application/vnd.jupyter.widget-view+json": {
       "model_id": "0a75b51944004604b5c1d09b295c2afc",
       "version_major": 2,
       "version_minor": 0
      },
      "text/plain": [
       "  0%|          | 0/44754 [00:00<?, ?it/s]"
      ]
     },
     "metadata": {},
     "output_type": "display_data"
    },
    {
     "data": {
      "text/plain": [
       "179198101"
      ]
     },
     "execution_count": 6,
     "metadata": {},
     "output_type": "execute_result"
    }
   ],
   "source": [
    "token_count = 0\n",
    "with tqdm(total=row_count) as pbar:\n",
    "    for batch in get_batch(DATA_FILENAME, 1):\n",
    "        ex = batch[0]\n",
    "        token_count += len(tokenizer.encode(ex[\"markdown\"]))\n",
    "        pbar.update()\n",
    "\n",
    "token_count"
   ]
  },
  {
   "cell_type": "code",
   "execution_count": 7,
   "id": "cc80cc13-6f9b-4748-acbb-956f5ae07f5d",
   "metadata": {},
   "outputs": [],
   "source": [
    "dataset = load_dataset(\"wikitext\", \"wikitext-103-raw-v1\")"
   ]
  },
  {
   "cell_type": "code",
   "execution_count": 8,
   "id": "6e251907-744b-4541-be4e-82b128db9a4a",
   "metadata": {},
   "outputs": [
    {
     "data": {
      "application/vnd.jupyter.widget-view+json": {
       "model_id": "12b6f905ec9643108186f5e0dfaffa56",
       "version_major": 2,
       "version_minor": 0
      },
      "text/plain": [
       "  0%|          | 0/35 [00:00<?, ?it/s]"
      ]
     },
     "metadata": {},
     "output_type": "display_data"
    },
    {
     "data": {
      "application/vnd.jupyter.widget-view+json": {
       "model_id": "0ff404d9923b4074aa263e2c4dc234da",
       "version_major": 2,
       "version_minor": 0
      },
      "text/plain": [
       "  0%|          | 0/14074 [00:00<?, ?it/s]"
      ]
     },
     "metadata": {},
     "output_type": "display_data"
    },
    {
     "data": {
      "application/vnd.jupyter.widget-view+json": {
       "model_id": "3680da5e54074e9fa91f1bb7667b0d84",
       "version_major": 2,
       "version_minor": 0
      },
      "text/plain": [
       "  0%|          | 0/30 [00:00<?, ?it/s]"
      ]
     },
     "metadata": {},
     "output_type": "display_data"
    },
    {
     "data": {
      "text/plain": [
       "118465269"
      ]
     },
     "execution_count": 8,
     "metadata": {},
     "output_type": "execute_result"
    }
   ],
   "source": [
    "splits = ['test', 'train', 'validation']\n",
    "wikitext_token_count = 0\n",
    "batch_size = 128\n",
    "for split in splits:\n",
    "    for i in tqdm(range(0, len(dataset[split]), batch_size)):\n",
    "        text = \"\".join(dataset[split][i:i+batch_size][\"text\"])\n",
    "        text = unicodedata.normalize(\"NFKC\", text)\n",
    "        wikitext_token_count += len(tokenizer.encode(text))\n",
    "wikitext_token_count"
   ]
  },
  {
   "cell_type": "code",
   "execution_count": 9,
   "id": "e37cbb17-86bd-4f7e-a4c0-320e0e7fd22a",
   "metadata": {},
   "outputs": [
    {
     "data": {
      "text/plain": [
       "1.512663606073439"
      ]
     },
     "execution_count": 9,
     "metadata": {},
     "output_type": "execute_result"
    }
   ],
   "source": [
    "token_count / wikitext_token_count"
   ]
  },
  {
   "cell_type": "markdown",
   "id": "40a30e11-0c16-4388-a374-5e3e6b5eca8d",
   "metadata": {},
   "source": [
    "## Counting unique characters"
   ]
  },
  {
   "cell_type": "code",
   "execution_count": 15,
   "id": "8b13e69e-4798-4a81-99f7-24fc9ccca2ab",
   "metadata": {},
   "outputs": [
    {
     "data": {
      "application/vnd.jupyter.widget-view+json": {
       "model_id": "5092baafcd7c42e4880af84cf1de1d21",
       "version_major": 2,
       "version_minor": 0
      },
      "text/plain": [
       "  0%|          | 0/350 [00:00<?, ?it/s]"
      ]
     },
     "metadata": {},
     "output_type": "display_data"
    },
    {
     "data": {
      "text/plain": [
       "[(' ', 130930982),\n",
       " ('e', 76726574),\n",
       " ('t', 53271005),\n",
       " ('a', 52893993),\n",
       " ('n', 45905092),\n",
       " ('i', 45466764),\n",
       " ('o', 45021761),\n",
       " ('r', 41220374),\n",
       " ('s', 39406700),\n",
       " ('h', 29588555),\n",
       " ('l', 25389701),\n",
       " ('d', 25181335),\n",
       " ('c', 18969708),\n",
       " ('u', 16133909),\n",
       " ('m', 14765055),\n",
       " ('f', 13146138),\n",
       " ('g', 12151919),\n",
       " ('p', 11823854),\n",
       " ('w', 10186376),\n",
       " ('y', 9344971),\n",
       " ('b', 8534511),\n",
       " (',', 7998723),\n",
       " ('.', 6481598),\n",
       " ('v', 6240639),\n",
       " ('k', 3962288),\n",
       " ('\\n', 3551271),\n",
       " ('1', 2986317),\n",
       " ('T', 2711102),\n",
       " ('0', 2605446),\n",
       " ('S', 2597403),\n",
       " ('A', 2459985),\n",
       " ('\"', 2129441),\n",
       " ('C', 2105794),\n",
       " ('2', 1925981),\n",
       " ('M', 1790186),\n",
       " ('-', 1716358),\n",
       " ('B', 1672243),\n",
       " ('I', 1585651),\n",
       " (\"'\", 1534544),\n",
       " ('9', 1522668),\n",
       " ('H', 1327603),\n",
       " ('P', 1258629),\n",
       " ('#', 1204393),\n",
       " ('x', 1193709),\n",
       " ('R', 1165975),\n",
       " ('D', 1163424),\n",
       " ('F', 1045554),\n",
       " ('L', 1029776),\n",
       " ('W', 1015142),\n",
       " ('N', 964828),\n",
       " ('G', 963445),\n",
       " (')', 924942),\n",
       " ('(', 924620),\n",
       " ('3', 886482),\n",
       " ('8', 860826),\n",
       " ('5', 857635),\n",
       " ('E', 843775),\n",
       " ('J', 816037),\n",
       " ('4', 796421),\n",
       " ('O', 751600),\n",
       " ('6', 723192),\n",
       " ('7', 719930),\n",
       " ('z', 690009),\n",
       " ('j', 604398),\n",
       " ('K', 567053),\n",
       " ('q', 546421),\n",
       " ('U', 487655),\n",
       " ('V', 419169),\n",
       " ('–', 389717),\n",
       " (';', 309407),\n",
       " (':', 301362),\n",
       " ('Y', 245657),\n",
       " ('\\\\', 243696),\n",
       " ('/', 148430),\n",
       " ('|', 130460),\n",
       " ('>', 122711),\n",
       " ('$', 102602),\n",
       " ('<', 96762),\n",
       " ('Z', 93585),\n",
       " ('—', 86351),\n",
       " ('Q', 76588),\n",
       " ('é', 72935),\n",
       " (']', 64527),\n",
       " ('[', 64391),\n",
       " ('X', 63369),\n",
       " ('%', 49791),\n",
       " ('&', 45038),\n",
       " ('!', 28547),\n",
       " ('á', 28379),\n",
       " ('=', 25242),\n",
       " ('+', 18742),\n",
       " ('í', 18412),\n",
       " ('£', 18140),\n",
       " ('?', 17195),\n",
       " ('°', 16985),\n",
       " ('ó', 16433),\n",
       " ('ü', 16390),\n",
       " ('ö', 16369),\n",
       " ('’', 15443),\n",
       " ('{', 13659)]"
      ]
     },
     "execution_count": 15,
     "metadata": {},
     "output_type": "execute_result"
    }
   ],
   "source": [
    "unique_chars = Counter()\n",
    "batch_size = 128\n",
    "with tqdm(total=row_count) as pbar:\n",
    "    for batch in get_batch(DATA_FILENAME, batch_size):\n",
    "        for ex in batch:\n",
    "            unique_chars.update(Counter(ex[\"markdown\"]))\n",
    "            pbar.update()\n",
    "unique_chars.most_common(100)"
   ]
  },
  {
   "cell_type": "code",
   "execution_count": 16,
   "id": "bd2a9a45-038a-4450-b051-8b1c959d5ac7",
   "metadata": {},
   "outputs": [
    {
     "data": {
      "text/plain": [
       "811791686"
      ]
     },
     "execution_count": 16,
     "metadata": {},
     "output_type": "execute_result"
    }
   ],
   "source": [
    "# Total chars\n",
    "unique_chars.total()"
   ]
  },
  {
   "cell_type": "markdown",
   "id": "211b7fd4-ef6e-434c-b00d-630055e0ba24",
   "metadata": {},
   "source": [
    "## Count unique words\n",
    "Using whitespace tokenizer."
   ]
  },
  {
   "cell_type": "code",
   "execution_count": 19,
   "id": "d7425639-98ff-48e2-9050-8c581d8f1777",
   "metadata": {},
   "outputs": [
    {
     "data": {
      "application/vnd.jupyter.widget-view+json": {
       "model_id": "474e9f7e4ba34574961c6717c465533d",
       "version_major": 2,
       "version_minor": 0
      },
      "text/plain": [
       "  0%|          | 0/44754 [00:00<?, ?it/s]"
      ]
     },
     "metadata": {},
     "output_type": "display_data"
    },
    {
     "data": {
      "text/plain": [
       "[('the', 8623358),\n",
       " ('of', 4189651),\n",
       " ('and', 3837891),\n",
       " ('to', 3067426),\n",
       " ('in', 2901869),\n",
       " ('a', 2560973),\n",
       " ('was', 1704132),\n",
       " ('The', 1275717),\n",
       " ('on', 1090964),\n",
       " ('as', 1065180),\n",
       " ('for', 1062360),\n",
       " ('that', 1017750),\n",
       " ('with', 997642),\n",
       " ('by', 931845),\n",
       " ('is', 710845),\n",
       " ('from', 674132),\n",
       " ('his', 667396),\n",
       " ('at', 659704),\n",
       " ('were', 558115),\n",
       " ('he', 473342),\n",
       " ('an', 465424),\n",
       " ('had', 463769),\n",
       " ('it', 445292),\n",
       " ('In', 443464),\n",
       " ('which', 415677),\n",
       " ('be', 350507),\n",
       " ('but', 309290),\n",
       " ('also', 295780),\n",
       " ('their', 294879),\n",
       " ('not', 285486),\n",
       " ('first', 281285),\n",
       " ('are', 280789),\n",
       " ('her', 276260),\n",
       " ('its', 275939),\n",
       " ('-', 272407),\n",
       " ('have', 240534),\n",
       " ('##', 238670),\n",
       " ('who', 232713),\n",
       " ('or', 231706),\n",
       " ('been', 228855),\n",
       " ('two', 222025),\n",
       " ('He', 221012),\n",
       " ('one', 214557),\n",
       " ('has', 207167),\n",
       " ('after', 203672),\n",
       " ('they', 203204),\n",
       " ('would', 201783),\n",
       " ('this', 198671),\n",
       " ('###', 197585),\n",
       " ('into', 189155),\n",
       " ('It', 166201),\n",
       " ('she', 165573),\n",
       " ('other', 165083),\n",
       " ('more', 158719),\n",
       " ('during', 153188),\n",
       " ('when', 148245),\n",
       " ('over', 146975),\n",
       " ('–', 143697),\n",
       " ('between', 137873),\n",
       " ('while', 135948),\n",
       " ('only', 134581),\n",
       " ('A', 134000),\n",
       " ('than', 133918),\n",
       " ('On', 133099),\n",
       " ('about', 132155),\n",
       " ('all', 128919),\n",
       " ('new', 123275),\n",
       " ('three', 119187),\n",
       " ('him', 118863),\n",
       " ('made', 117815),\n",
       " ('most', 117494),\n",
       " ('time', 116728),\n",
       " ('out', 115275),\n",
       " ('New', 114794),\n",
       " ('where', 112883),\n",
       " ('up', 112346),\n",
       " ('before', 111520),\n",
       " ('being', 109895),\n",
       " ('such', 106703),\n",
       " ('later', 104332),\n",
       " ('some', 103357),\n",
       " ('against', 103045),\n",
       " ('This', 101086),\n",
       " ('through', 100644),\n",
       " ('used', 99310),\n",
       " ('second', 97379),\n",
       " ('became', 96855),\n",
       " ('including', 95536),\n",
       " ('both', 95014),\n",
       " ('After', 94712),\n",
       " ('I', 94548),\n",
       " ('then', 94425),\n",
       " ('number', 91011),\n",
       " ('United', 91010),\n",
       " ('game', 90891),\n",
       " ('part', 90608),\n",
       " ('film', 86301),\n",
       " ('several', 85882),\n",
       " ('could', 84384),\n",
       " ('can', 83719),\n",
       " ('began', 80697),\n",
       " ('did', 80533),\n",
       " ('under', 80517),\n",
       " ('no', 80309),\n",
       " ('them', 79708),\n",
       " ('early', 79498),\n",
       " ('She', 79073),\n",
       " ('song', 78966),\n",
       " ('released', 78220),\n",
       " ('many', 77635),\n",
       " ('until', 77266),\n",
       " ('four', 76923),\n",
       " ('said', 75254),\n",
       " ('there', 74714),\n",
       " ('American', 74358),\n",
       " ('called', 73457),\n",
       " ('As', 73204),\n",
       " ('years', 71941),\n",
       " ('well', 71530),\n",
       " ('known', 70644),\n",
       " ('same', 69798),\n",
       " ('took', 69234),\n",
       " ('so', 68699),\n",
       " ('following', 68384),\n",
       " ('At', 67992),\n",
       " ('found', 67937),\n",
       " ('these', 67643),\n",
       " ('because', 65354),\n",
       " ('around', 65348),\n",
       " ('British', 65108),\n",
       " ('team', 64167),\n",
       " ('series', 63915),\n",
       " ('received', 63744),\n",
       " ('September', 63674),\n",
       " ('album', 63405),\n",
       " ('World', 62982),\n",
       " ('each', 62861),\n",
       " ('work', 62568),\n",
       " ('along', 61627),\n",
       " ('They', 61301),\n",
       " ('may', 61230),\n",
       " ('end', 60884),\n",
       " ('any', 60064),\n",
       " ('due', 59989),\n",
       " ('million', 59844),\n",
       " ('season', 58993),\n",
       " ('August', 58909),\n",
       " ('October', 58324),\n",
       " ('May', 58097),\n",
       " ('use', 57954),\n",
       " ('since', 56918),\n",
       " ('John', 56718),\n",
       " ('included', 56355),\n",
       " ('June', 55665),\n",
       " ('During', 55573),\n",
       " ('However,', 55532),\n",
       " ('music', 55239),\n",
       " ('July', 55085),\n",
       " ('described', 54538),\n",
       " ('January', 54409),\n",
       " ('March', 53915),\n",
       " ('like', 53873),\n",
       " ('played', 53555),\n",
       " ('November', 53521),\n",
       " ('people', 53209),\n",
       " ('final', 52985),\n",
       " ('won', 52944),\n",
       " ('back', 52741),\n",
       " ('April', 52581),\n",
       " ('led', 51600),\n",
       " ('set', 51542),\n",
       " ('five', 51428),\n",
       " ('episode', 50767),\n",
       " ('York', 50704),\n",
       " ('named', 50203),\n",
       " ('another', 50143),\n",
       " ('December', 50005),\n",
       " ('left', 49548),\n",
       " ('if', 49222),\n",
       " ('single', 48816),\n",
       " ('third', 48689),\n",
       " ('next', 48399),\n",
       " ('what', 48309),\n",
       " ('large', 47823),\n",
       " ('By', 47492),\n",
       " ('off', 47379),\n",
       " ('much', 47092),\n",
       " ('When', 46745),\n",
       " ('wrote', 46505),\n",
       " ('main', 46305),\n",
       " ('February', 46068),\n",
       " ('held', 45708),\n",
       " ('within', 45686),\n",
       " ('those', 45677),\n",
       " ('just', 45369),\n",
       " ('own', 45122),\n",
       " ('original', 45019),\n",
       " ('North', 44549),\n",
       " ('make', 44308),\n",
       " ('will', 44284)]"
      ]
     },
     "execution_count": 19,
     "metadata": {},
     "output_type": "execute_result"
    }
   ],
   "source": [
    "unique_words = Counter()\n",
    "batch_size = 128\n",
    "with tqdm(total=row_count) as pbar:\n",
    "    for batch in get_batch(DATA_FILENAME, batch_size):\n",
    "        for ex in batch:\n",
    "            unique_words.update(Counter(ex[\"markdown\"].split()))\n",
    "            pbar.update()"
   ]
  },
  {
   "cell_type": "code",
   "execution_count": 20,
   "id": "7c63f610-699d-4123-a113-06a7b7ab2a03",
   "metadata": {},
   "outputs": [
    {
     "data": {
      "text/plain": [
       "[('the', 8623358),\n",
       " ('of', 4189651),\n",
       " ('and', 3837891),\n",
       " ('to', 3067426),\n",
       " ('in', 2901869),\n",
       " ('a', 2560973),\n",
       " ('was', 1704132),\n",
       " ('The', 1275717),\n",
       " ('on', 1090964),\n",
       " ('as', 1065180),\n",
       " ('for', 1062360),\n",
       " ('that', 1017750),\n",
       " ('with', 997642),\n",
       " ('by', 931845),\n",
       " ('is', 710845),\n",
       " ('from', 674132),\n",
       " ('his', 667396),\n",
       " ('at', 659704),\n",
       " ('were', 558115),\n",
       " ('he', 473342),\n",
       " ('an', 465424),\n",
       " ('had', 463769),\n",
       " ('it', 445292),\n",
       " ('In', 443464),\n",
       " ('which', 415677),\n",
       " ('be', 350507),\n",
       " ('but', 309290),\n",
       " ('also', 295780),\n",
       " ('their', 294879),\n",
       " ('not', 285486),\n",
       " ('first', 281285),\n",
       " ('are', 280789),\n",
       " ('her', 276260),\n",
       " ('its', 275939),\n",
       " ('-', 272407),\n",
       " ('have', 240534),\n",
       " ('##', 238670),\n",
       " ('who', 232713),\n",
       " ('or', 231706),\n",
       " ('been', 228855),\n",
       " ('two', 222025),\n",
       " ('He', 221012),\n",
       " ('one', 214557),\n",
       " ('has', 207167),\n",
       " ('after', 203672),\n",
       " ('they', 203204),\n",
       " ('would', 201783),\n",
       " ('this', 198671),\n",
       " ('###', 197585),\n",
       " ('into', 189155),\n",
       " ('It', 166201),\n",
       " ('she', 165573),\n",
       " ('other', 165083),\n",
       " ('more', 158719),\n",
       " ('during', 153188),\n",
       " ('when', 148245),\n",
       " ('over', 146975),\n",
       " ('–', 143697),\n",
       " ('between', 137873),\n",
       " ('while', 135948),\n",
       " ('only', 134581),\n",
       " ('A', 134000),\n",
       " ('than', 133918),\n",
       " ('On', 133099),\n",
       " ('about', 132155),\n",
       " ('all', 128919),\n",
       " ('new', 123275),\n",
       " ('three', 119187),\n",
       " ('him', 118863),\n",
       " ('made', 117815),\n",
       " ('most', 117494),\n",
       " ('time', 116728),\n",
       " ('out', 115275),\n",
       " ('New', 114794),\n",
       " ('where', 112883),\n",
       " ('up', 112346),\n",
       " ('before', 111520),\n",
       " ('being', 109895),\n",
       " ('such', 106703),\n",
       " ('later', 104332),\n",
       " ('some', 103357),\n",
       " ('against', 103045),\n",
       " ('This', 101086),\n",
       " ('through', 100644),\n",
       " ('used', 99310),\n",
       " ('second', 97379),\n",
       " ('became', 96855),\n",
       " ('including', 95536),\n",
       " ('both', 95014),\n",
       " ('After', 94712),\n",
       " ('I', 94548),\n",
       " ('then', 94425),\n",
       " ('number', 91011),\n",
       " ('United', 91010),\n",
       " ('game', 90891),\n",
       " ('part', 90608),\n",
       " ('film', 86301),\n",
       " ('several', 85882),\n",
       " ('could', 84384),\n",
       " ('can', 83719),\n",
       " ('began', 80697),\n",
       " ('did', 80533),\n",
       " ('under', 80517),\n",
       " ('no', 80309),\n",
       " ('them', 79708),\n",
       " ('early', 79498),\n",
       " ('She', 79073),\n",
       " ('song', 78966),\n",
       " ('released', 78220),\n",
       " ('many', 77635),\n",
       " ('until', 77266),\n",
       " ('four', 76923),\n",
       " ('said', 75254),\n",
       " ('there', 74714),\n",
       " ('American', 74358),\n",
       " ('called', 73457),\n",
       " ('As', 73204),\n",
       " ('years', 71941),\n",
       " ('well', 71530),\n",
       " ('known', 70644),\n",
       " ('same', 69798),\n",
       " ('took', 69234),\n",
       " ('so', 68699),\n",
       " ('following', 68384),\n",
       " ('At', 67992),\n",
       " ('found', 67937),\n",
       " ('these', 67643),\n",
       " ('because', 65354),\n",
       " ('around', 65348),\n",
       " ('British', 65108),\n",
       " ('team', 64167),\n",
       " ('series', 63915),\n",
       " ('received', 63744),\n",
       " ('September', 63674),\n",
       " ('album', 63405),\n",
       " ('World', 62982),\n",
       " ('each', 62861),\n",
       " ('work', 62568),\n",
       " ('along', 61627),\n",
       " ('They', 61301),\n",
       " ('may', 61230),\n",
       " ('end', 60884),\n",
       " ('any', 60064),\n",
       " ('due', 59989),\n",
       " ('million', 59844),\n",
       " ('season', 58993),\n",
       " ('August', 58909),\n",
       " ('October', 58324),\n",
       " ('May', 58097),\n",
       " ('use', 57954),\n",
       " ('since', 56918),\n",
       " ('John', 56718),\n",
       " ('included', 56355),\n",
       " ('June', 55665),\n",
       " ('During', 55573),\n",
       " ('However,', 55532),\n",
       " ('music', 55239),\n",
       " ('July', 55085),\n",
       " ('described', 54538),\n",
       " ('January', 54409),\n",
       " ('March', 53915),\n",
       " ('like', 53873),\n",
       " ('played', 53555),\n",
       " ('November', 53521),\n",
       " ('people', 53209),\n",
       " ('final', 52985),\n",
       " ('won', 52944),\n",
       " ('back', 52741),\n",
       " ('April', 52581),\n",
       " ('led', 51600),\n",
       " ('set', 51542),\n",
       " ('five', 51428),\n",
       " ('episode', 50767),\n",
       " ('York', 50704),\n",
       " ('named', 50203),\n",
       " ('another', 50143),\n",
       " ('December', 50005),\n",
       " ('left', 49548),\n",
       " ('if', 49222),\n",
       " ('single', 48816),\n",
       " ('third', 48689),\n",
       " ('next', 48399),\n",
       " ('what', 48309),\n",
       " ('large', 47823),\n",
       " ('By', 47492),\n",
       " ('off', 47379),\n",
       " ('much', 47092),\n",
       " ('When', 46745),\n",
       " ('wrote', 46505),\n",
       " ('main', 46305),\n",
       " ('February', 46068),\n",
       " ('held', 45708),\n",
       " ('within', 45686),\n",
       " ('those', 45677),\n",
       " ('just', 45369),\n",
       " ('own', 45122),\n",
       " ('original', 45019),\n",
       " ('North', 44549),\n",
       " ('make', 44308),\n",
       " ('will', 44284),\n",
       " ('near', 44196),\n",
       " ('late', 44148),\n",
       " ('His', 44016),\n",
       " ('place', 43683),\n",
       " ('National', 43645),\n",
       " ('still', 43628),\n",
       " ('States', 43453),\n",
       " ('state', 43413),\n",
       " ('last', 43288),\n",
       " ('South', 43126),\n",
       " ('based', 42162),\n",
       " ('having', 41839),\n",
       " ('group', 41569),\n",
       " ('six', 41564),\n",
       " ('name', 41497),\n",
       " ('long', 41443),\n",
       " ('down', 41401),\n",
       " ('considered', 41315),\n",
       " ('War', 41309),\n",
       " ('major', 40938),\n",
       " ('year', 40893),\n",
       " ('former', 40466),\n",
       " ('moved', 40406),\n",
       " ('high', 40346),\n",
       " ('French', 40055),\n",
       " ('continued', 39997),\n",
       " ('de', 39939),\n",
       " ('video', 39840),\n",
       " ('home', 39781),\n",
       " ('US', 39762),\n",
       " ('German', 39639),\n",
       " ('although', 39567),\n",
       " ('very', 39551),\n",
       " ('came', 39535),\n",
       " ('area', 39390),\n",
       " ('further', 39146),\n",
       " ('1', 39090),\n",
       " ('local', 38878),\n",
       " ('built', 38806),\n",
       " ('city', 38459),\n",
       " ('\\\\|\\\\|', 38311),\n",
       " ('among', 38291),\n",
       " ('small', 38117),\n",
       " ('character', 37638),\n",
       " ('often', 37506),\n",
       " ('According', 37495),\n",
       " ('best', 37435),\n",
       " ('without', 37276),\n",
       " ('record', 37259),\n",
       " ('even', 37034),\n",
       " ('time,', 37012),\n",
       " ('different', 36792),\n",
       " ('returned', 36704),\n",
       " ('went', 36601),\n",
       " ('government', 36558),\n",
       " ('become', 36513),\n",
       " ('few', 36306),\n",
       " ('though', 36219),\n",
       " ('life', 36208),\n",
       " ('For', 36162),\n",
       " ('top', 36134),\n",
       " ('take', 35936),\n",
       " ('While', 35903),\n",
       " ('\"the', 35740),\n",
       " ('family', 35486),\n",
       " ('show', 35424),\n",
       " ('line', 35360),\n",
       " ('using', 35324),\n",
       " ('gave', 35305),\n",
       " ('role', 35200),\n",
       " ('support', 34900),\n",
       " ('given', 34899),\n",
       " ('system', 34882),\n",
       " ('2', 34874),\n",
       " ('members', 34670),\n",
       " ('do', 34632),\n",
       " ('published', 34565),\n",
       " ('announced', 34547),\n",
       " ('now', 34494),\n",
       " ('\"The', 34474),\n",
       " ('Although', 34426),\n",
       " ('public', 34385),\n",
       " ('lead', 34366),\n",
       " ('10', 34301),\n",
       " ('There', 34200),\n",
       " ('version', 34001),\n",
       " ('similar', 33866),\n",
       " ('ship', 33812),\n",
       " ('One', 33701),\n",
       " ('species', 33270),\n",
       " ('West', 33236),\n",
       " ('lost', 33175),\n",
       " ('building', 33086),\n",
       " ('match', 33071),\n",
       " ('games', 33066),\n",
       " ('play', 32796),\n",
       " ('again', 32610),\n",
       " ('written', 32547),\n",
       " ('making', 32471),\n",
       " ('City', 32400),\n",
       " ('release', 32318),\n",
       " ('days', 32246),\n",
       " ('north', 32218),\n",
       " ('how', 32211),\n",
       " ('previous', 32163),\n",
       " ('recorded', 32106),\n",
       " ('English', 32008),\n",
       " ('remained', 31969),\n",
       " ('These', 31837),\n",
       " ('production', 31833),\n",
       " ('stated', 31778),\n",
       " ('band', 31735),\n",
       " ('day', 31734),\n",
       " ('player', 31672),\n",
       " ('served', 31620),\n",
       " ('include', 31521),\n",
       " ('across', 31370),\n",
       " ('per', 31301),\n",
       " ('felt', 31184),\n",
       " ('reached', 31133),\n",
       " ('form', 31034),\n",
       " ('sent', 30793),\n",
       " ('side', 30650),\n",
       " ('\"a', 30495),\n",
       " ('way', 30439),\n",
       " ('never', 30424),\n",
       " ('&', 30261),\n",
       " ('you', 30205),\n",
       " ('men', 30189),\n",
       " ('story', 30161),\n",
       " ('produced', 30158),\n",
       " ('station', 29857),\n",
       " ('3', 29837),\n",
       " ('noted', 29809),\n",
       " ('####', 29366),\n",
       " ('book', 29335),\n",
       " ('Street', 29244),\n",
       " ('performed', 28976),\n",
       " ('win', 28939),\n",
       " ('death', 28874),\n",
       " ('military', 28829),\n",
       " ('however,', 28790),\n",
       " ('U.S.', 28761),\n",
       " ('season,', 28644),\n",
       " ('created', 28629),\n",
       " ('career', 28623),\n",
       " ('total', 28622),\n",
       " ('less', 28535),\n",
       " ('south', 28534),\n",
       " ('League', 28450),\n",
       " ('track', 28432),\n",
       " ('ships', 28287),\n",
       " ('we', 28227),\n",
       " ('died', 28224),\n",
       " ('20', 28211),\n",
       " ('service', 28175),\n",
       " ('reported', 28113),\n",
       " ('developed', 28099),\n",
       " ('order', 27799),\n",
       " ('various', 27699),\n",
       " ('war', 27552),\n",
       " ('political', 27547),\n",
       " ('William', 27456),\n",
       " ('King', 27245),\n",
       " ('University', 27212),\n",
       " ('power', 27200),\n",
       " ('followed', 27132),\n",
       " ('able', 27069),\n",
       " ('With', 26957),\n",
       " ('opened', 26950),\n",
       " ('position', 26883),\n",
       " ('James', 26874),\n",
       " ('title', 26851),\n",
       " ('feet', 26693),\n",
       " ('started', 26537),\n",
       " ('should', 26401),\n",
       " ('return', 26354),\n",
       " ('worked', 26270),\n",
       " ('12', 26269),\n",
       " ('State', 26204),\n",
       " ('throughout', 26178),\n",
       " ('short', 26174),\n",
       " ('caused', 26127),\n",
       " ('control', 26111),\n",
       " ('performance', 26090),\n",
       " ('water', 26056),\n",
       " ('decided', 26026),\n",
       " ('appeared', 26010),\n",
       " ('history', 25909),\n",
       " ('taken', 25878),\n",
       " ('year,', 25864),\n",
       " ('Japanese', 25859),\n",
       " ('m)', 25709),\n",
       " ('>', 25698),\n",
       " ('storm', 25628),\n",
       " ('school', 25606),\n",
       " ('design', 25539),\n",
       " ('players', 25482),\n",
       " ('15', 25476),\n",
       " ('company', 25438),\n",
       " ('development', 25391),\n",
       " ('saw', 25349),\n",
       " ('seen', 25344),\n",
       " ('sold', 25311),\n",
       " ('placed', 25291),\n",
       " ('eventually', 25244),\n",
       " ('half', 25193),\n",
       " ('4', 25190),\n",
       " ('attack', 25122),\n",
       " ('tropical', 25106),\n",
       " ('eight', 24972),\n",
       " ('songs', 24944),\n",
       " ('little', 24910),\n",
       " ('scored', 24903),\n",
       " ('General', 24823),\n",
       " ('too', 24750),\n",
       " ('television', 24720),\n",
       " ('David', 24698),\n",
       " ('features', 24687),\n",
       " ('wanted', 24569),\n",
       " ('forces', 24544),\n",
       " ('joined', 24539),\n",
       " ('seven', 24426),\n",
       " ('run', 24404),\n",
       " ('world', 24343),\n",
       " ('George', 24324),\n",
       " ('completed', 24319),\n",
       " ('...', 24261),\n",
       " ('5', 24219),\n",
       " ('thought', 24212),\n",
       " ('himself', 24191),\n",
       " ('originally', 24162),\n",
       " ('30', 24132),\n",
       " ('in)', 24123),\n",
       " ('point', 24114),\n",
       " ('leading', 24060),\n",
       " ('added', 23990),\n",
       " ('behind', 23975),\n",
       " ('formed', 23969),\n",
       " ('allowed', 23967),\n",
       " ('writing', 23960),\n",
       " ('member', 23948),\n",
       " ('designed', 23878),\n",
       " ('rather', 23844),\n",
       " ('100', 23816),\n",
       " ('away', 23760),\n",
       " ('located', 23740),\n",
       " ('Army', 23710),\n",
       " ('featured', 23699),\n",
       " ('provided', 23669),\n",
       " ('established', 23646),\n",
       " ('Following', 23552),\n",
       " ('fourth', 23549),\n",
       " ('least', 23451),\n",
       " ('finished', 23447),\n",
       " ('towards', 23437),\n",
       " ('Some', 23415),\n",
       " ('national', 23388),\n",
       " ('River', 23370),\n",
       " ('construction', 23360),\n",
       " ('No.', 23343),\n",
       " ('An', 23189),\n",
       " ('points', 23186),\n",
       " ('praised', 23105),\n",
       " ('east', 23066),\n",
       " ('every', 23015),\n",
       " ('period', 22949),\n",
       " ('later,', 22942),\n",
       " ('good', 22886),\n",
       " ('working', 22839),\n",
       " ('miles', 22810),\n",
       " ('Royal', 22807),\n",
       " ('club', 22770),\n",
       " ('once', 22766),\n",
       " ('\"I', 22687),\n",
       " ('playing', 22650),\n",
       " ('right', 22606),\n",
       " ('time.', 22556),\n",
       " ('Despite', 22555),\n",
       " ('Australian', 22533),\n",
       " ('initially', 22527),\n",
       " ('replaced', 22522),\n",
       " ('months', 22472),\n",
       " ('East', 22422),\n",
       " ('Battle', 22405),\n",
       " ('To', 22390),\n",
       " ('either', 22279),\n",
       " ('head', 22278),\n",
       " ('great', 22221),\n",
       " ('believed', 22194),\n",
       " ('instead', 22160),\n",
       " ('opening', 22143),\n",
       " ('characters', 22135),\n",
       " ('close', 22106),\n",
       " ('brought', 22082),\n",
       " ('Other', 22079),\n",
       " ('get', 22024),\n",
       " ('upon', 21976),\n",
       " ('force', 21922),\n",
       " ('additional', 21918)]"
      ]
     },
     "execution_count": 20,
     "metadata": {},
     "output_type": "execute_result"
    }
   ],
   "source": [
    "unique_words.most_common(500)"
   ]
  },
  {
   "cell_type": "code",
   "execution_count": 21,
   "id": "7ebc08a3-c05c-407f-8f6c-6ba4b450e9c1",
   "metadata": {},
   "outputs": [
    {
     "data": {
      "text/plain": [
       "132691055"
      ]
     },
     "execution_count": 21,
     "metadata": {},
     "output_type": "execute_result"
    }
   ],
   "source": [
    "unique_words.total()"
   ]
  },
  {
   "cell_type": "markdown",
   "id": "f0bbde1b-4cb3-4f5d-955c-376777054f71",
   "metadata": {},
   "source": [
    "## Examples"
   ]
  },
  {
   "cell_type": "code",
   "execution_count": 12,
   "id": "21899c65-a488-48b8-89c5-f2014eb89b27",
   "metadata": {},
   "outputs": [
    {
     "data": {
      "text/plain": [
       "{'pageid': 40961074,\n",
       " 'title': 'Attarsiya',\n",
       " 'revid': 1164804042,\n",
       " 'description': 'Military leader of Ahhiya',\n",
       " 'categories': ['Ancient Anatolia',\n",
       "  'Greek military leaders',\n",
       "  'Mycenaean Greeks'],\n",
       " 'markdown': 'Attarsiya was a 15th–14th century BCE military leader of Ahhiya. In the Hittite archives of circa 1400 BCE, he is described as a \"man of Ahhiya\", a country identified with the Achaeans and Mycenaean Greece. The campaigns of Attarsiya, as well as his conflict with the Hittite vassal, Madduwatta, represent the first recorded Mycenaean Greek military activity on the Anatolian mainland, as well as the first conflict between Achaeans and Hittites. He finally withdrew from Anatolia after Hittite intervention, but later launched a campaign against Alashiya (Cyprus).\\n\\nContemporary Hittite accounts about the campaigns of Attarsiya and the Ahhiya in general may indicate that there was a possible Mycenaean empire centered on late Bronze Age Greece. Moreover, Attarsiya might be a possible Hittite reconstruction of the Greek name Atreus, a king of Mycenae according to Greek mythology.\\n\\n## Background\\n\\nThe activities of Attarsiya are recorded in the Hittite archives, in particular in the Indictment of Madduwata. He is described as a \"man of Ahhiya\", which was a typical Hittite way to refer to an enemy king. This makes Attarsiya the first known Achaean leader, but his exact authority inside the Achaean world remains unclear. The Hittite descriptions seem to agree that he was a local Achaean ruler in western Anatolia, rather than a High king of all the Achaeans.\\n\\nMoreover, the chronology of the correspondent Hittite texts was initially estimated at the end of the 13th century BCE. However, more recent research, based on a number of archaic characteristics the specific texts feature, place it together with the events described circa two centuries earlier (end of 15th-beginning of 14th century BCE).\\n\\nOn the other hand, no relevant information is found in the contemporary Greek Linear B records. The latter, dealing only with administrative issues of the Mycenaean palaces, are of limited value concerning the political developments of the late Bronze Age era. Moreover, although the title of the Mycenaean kings, the wanax, has been read several times in the Linear B texts, no correspondent personal names have been found.\\n\\n## Military campaigns\\n\\n### Anatolia\\n\\nThe Hittite archives of circa 1400 BCE, during the reign of Arnuwanda I, describe the military campaign of Attarsiya in southwest Anatolia, probably in the region of Lycia. The Achaean expedition in Anatolia is associated with increased Mycenaean findings in Miletus during this period (early 14th century BCE), indicating that a number of Greek people moved from mainland Greece to this region.\\n\\nAttarsiya probably used the city of Miletus, in west coast Anatolia, which was already under Achaean influence, as a military base. Attarsiya launched a campaign deploying an army that included 100 war chariots and attacked regions which were Hittite vassals, or at least under a certain degree of Hittite influence. Among them, he attacked the Hittite vassal, Madduwatta, likely a prince of the kingdom of Arzawa, and managed to expel him from his country. The latter found refuge in the court of the Hittite ruler and was installed by him as a vassal in Zipasla, somewhere in western Anatolia. Attarsiya launched a second attack against Madduwatta and managed again to defeat him. The Hittite vassal was unable to provide any opposition. As a result of Achaean military activity in the region, the Hittites dispatched an army under Kisnapli. The Indictment of Madduwatta gives a brief description of the battle:\\n\\n> Kisnapli went into battle against Attarsiya 100 [chariots and ... infantry] of Attarsiya [drew up]. And they fought. One officer of Attarsiya was killed, and one officer of ours, Zidanza, was killed. Then Attasiya ... to Madduwatta, and he went off to his own land.\\n\\nThe way the conflict is described, by counting only two casualties, may point that there was a duel between the nobles of the two sides. However, it is also possible that the dead among the common soldiers were not considered important to mention. Although the outcome of the battle remained unresolved, Attarsiya decided to withdraw his troops from the battlefield. After his retreat from the Anatolian mainland, Madduwatta was again installed as a Hittite vassal in the region.\\n\\n### Alashiya\\n\\nLater, Attarsiya, still posing a threat to the Hittites, invaded the island of Alashiya (Cyprus) together with a number of his Anatolian allies, including his former enemy Madduwatta. The defection to the camp of Attarsiya no doubt worried the Hittites, since they sought to do trade with the Mediterranean island themselves. Nonetheless, Alashiya at that time was raided and possibly came under the control of Madduwatta, who may have become king of Arzawa in western Anatolia, or Ahhiyawa , hostile to Hattusa. The Mycenaean presence in Cyprus is also associated with archaeological evidence of Mycenaean Greek settlers, if not settlements, dating from that time unearthed there. Direct settlements were established probably in the late 13th century BCE, according to archaeological finds.\\n\\n## Legacy\\n\\nThe campaigns of Attarsiya represent the earliest recorded Mycenaean Greek military activity on the Anatolian mainland, as well as the first conflict between Achaeans and Hittites. It appears that these military developments had a certain impact on the local populations. In this context, a decorated shard of pottery from the Hittite capital, Hattusa, depicts a warrior with body armor and boar\\'s tusk helmet, typical of Achaean warfare, while the Hittite king offers a Mycenaean type thrusting sword to the Storm God, Teshub.\\n\\nDespite the withdrawal of Attarsiya after the Hittite intervention, the following decades (circa 1380-1320 BCE) were a period of Mycenaean expansion on the Anatolian coast. Achaean military activity in the region continues to be attested through several Hittite records until circa 1250 BCE.\\n\\n### Link with mythical Atreus\\n\\nIt has been suggested by several scholars that the term Attarsiya might be a possible Hittite reconstruction of the Greek name Atreus, a mythical king of Mycenae and father of Agamemnon. However, other scholars argue that even though the name is probably Greek, since he is described as an Ahhiya and connected to Atreus, the person carrying the name is not necessarily identical to the famous Atreus of Greek mythology.\\n\\nAccording to an alternative view presented by Hittitologist Albrecht Goetze, Attarsiya might possibly be a possessive adjective, meaning \"belonging to Atreus\" (Atreides), which was a typical Homeric term to refer to the sons of Atreus, Agamemnon and Menelaus, throughout the Iliad. British scholar Martin Litchfield West suggested that Atreus is a shorter form of an older Greek Bronze Αge era name, more closely connected with Attarsiya, like Atresias, Atersias or Atarsias.\\n\\nA further possible link to the grecophone sphere is the Linear B term ta-ra-si-ja, well attested in Pylian tablet series JN, a word which means \"copper/bronze allotment\" or \"weight unit of copper/bronze\", or something similar, applied to metalworkers. In the Pylos JN 415 tablet, there is also found an adjective a-ta-ra-si-jo, meaning \"without copper/bronze\". The context in which ta-ra-si-ja occurs during the Late Helladic period suggests that those who produced or worked with the allocated raw materials were a large work force and the work was of a low-paid status. Worth noting at Pylos around 1200 BCE is the independence of a-ta-ra-si-jo smiths from allotments accorded ta-ra-si-ja smiths. It was evidently optional for anyone able to obtain sufficient quantities of copper or bronze from sources outside the palace to do so as an a-ta-ra-si-jo.\\n\\n## Possibility of a Mycenaean empire\\n\\nIt has been established in modern scholarship that the Hittite term Ahhiya (or Ahhiyawa in latter texts) refers to Mycenaean Greek territory and its inhabitants, the Achaeans, one of the names that Homer used to refer to the Greeks in the Iliad. Historically important about the Achaeans in the time of Attarsiya is that they undertook an expedition to Anatolia, as well as Cyprus. The latter expedition indicates that the Achaean leader commanded a significant fleet and that the Achaeans were a sea power.\\n\\nAccording to the Hittite inscriptions, it appears that the Ahhiya were a powerful empire, at the same scale as contemporary Egypt, Assyria and the Hittite Empire. Moreover, based on the fact that Attarsiya launched a military campaign in Anatolia and fielded one hundred chariots, in addition to infantry, Dutch researcher Jorrit Kelder suggested that Ahhiya must have had the military capacity of at least three times the size of the Mycenaean kingdom of Pylos, based on the information recorded on the Linear B tablets unearthed from the specific palace. Based on this view, the Achaeans under Attarsiya may have formed some kind of alliance which included several Mycenaean kingdoms.'}"
      ]
     },
     "execution_count": 12,
     "metadata": {},
     "output_type": "execute_result"
    }
   ],
   "source": [
    "ex = get_batch(DATA_FILENAME, 100).__next__()\n",
    "ex[-37]"
   ]
  },
  {
   "cell_type": "code",
   "execution_count": 13,
   "id": "72a34f37-a44e-41a1-a2e8-50d1ceb03b3c",
   "metadata": {},
   "outputs": [
    {
     "name": "stdout",
     "output_type": "stream",
     "text": [
      "Attarsiya was a 15th–14th century BCE military leader of Ahhiya. In the Hittite archives of circa 1400 BCE, he is described as a \"man of Ahhiya\", a country identified with the Achaeans and Mycenaean Greece. The campaigns of Attarsiya, as well as his conflict with the Hittite vassal, Madduwatta, represent the first recorded Mycenaean Greek military activity on the Anatolian mainland, as well as the first conflict between Achaeans and Hittites. He finally withdrew from Anatolia after Hittite intervention, but later launched a campaign against Alashiya (Cyprus).\n",
      "\n",
      "Contemporary Hittite accounts about the campaigns of Attarsiya and the Ahhiya in general may indicate that there was a possible Mycenaean empire centered on late Bronze Age Greece. Moreover, Attarsiya might be a possible Hittite reconstruction of the Greek name Atreus, a king of Mycenae according to Greek mythology.\n",
      "\n",
      "## Background\n",
      "\n",
      "The activities of Attarsiya are recorded in the Hittite archives, in particular in the Indictment of Madduwata. He is described as a \"man of Ahhiya\", which was a typical Hittite way to refer to an enemy king. This makes Attarsiya the first known Achaean leader, but his exact authority inside the Achaean world remains unclear. The Hittite descriptions seem to agree that he was a local Achaean ruler in western Anatolia, rather than a High king of all the Achaeans.\n",
      "\n",
      "Moreover, the chronology of the correspondent Hittite texts was initially estimated at the end of the 13th century BCE. However, more recent research, based on a number of archaic characteristics the specific texts feature, place it together with the events described circa two centuries earlier (end of 15th-beginning of 14th century BCE).\n",
      "\n",
      "On the other hand, no relevant information is found in the contemporary Greek Linear B records. The latter, dealing only with administrative issues of the Mycenaean palaces, are of limited value concerning the political developments of the late Bronze Age era. Moreover, although the title of the Mycenaean kings, the wanax, has been read several times in the Linear B texts, no correspondent personal names have been found.\n",
      "\n",
      "## Military campaigns\n",
      "\n",
      "### Anatolia\n",
      "\n",
      "The Hittite archives of circa 1400 BCE, during the reign of Arnuwanda I, describe the military campaign of Attarsiya in southwest Anatolia, probably in the region of Lycia. The Achaean expedition in Anatolia is associated with increased Mycenaean findings in Miletus during this period (early 14th century BCE), indicating that a number of Greek people moved from mainland Greece to this region.\n",
      "\n",
      "Attarsiya probably used the city of Miletus, in west coast Anatolia, which was already under Achaean influence, as a military base. Attarsiya launched a campaign deploying an army that included 100 war chariots and attacked regions which were Hittite vassals, or at least under a certain degree of Hittite influence. Among them, he attacked the Hittite vassal, Madduwatta, likely a prince of the kingdom of Arzawa, and managed to expel him from his country. The latter found refuge in the court of the Hittite ruler and was installed by him as a vassal in Zipasla, somewhere in western Anatolia. Attarsiya launched a second attack against Madduwatta and managed again to defeat him. The Hittite vassal was unable to provide any opposition. As a result of Achaean military activity in the region, the Hittites dispatched an army under Kisnapli. The Indictment of Madduwatta gives a brief description of the battle:\n",
      "\n",
      "> Kisnapli went into battle against Attarsiya 100 [chariots and ... infantry] of Attarsiya [drew up]. And they fought. One officer of Attarsiya was killed, and one officer of ours, Zidanza, was killed. Then Attasiya ... to Madduwatta, and he went off to his own land.\n",
      "\n",
      "The way the conflict is described, by counting only two casualties, may point that there was a duel between the nobles of the two sides. However, it is also possible that the dead among the common soldiers were not considered important to mention. Although the outcome of the battle remained unresolved, Attarsiya decided to withdraw his troops from the battlefield. After his retreat from the Anatolian mainland, Madduwatta was again installed as a Hittite vassal in the region.\n",
      "\n",
      "### Alashiya\n",
      "\n",
      "Later, Attarsiya, still posing a threat to the Hittites, invaded the island of Alashiya (Cyprus) together with a number of his Anatolian allies, including his former enemy Madduwatta. The defection to the camp of Attarsiya no doubt worried the Hittites, since they sought to do trade with the Mediterranean island themselves. Nonetheless, Alashiya at that time was raided and possibly came under the control of Madduwatta, who may have become king of Arzawa in western Anatolia, or Ahhiyawa , hostile to Hattusa. The Mycenaean presence in Cyprus is also associated with archaeological evidence of Mycenaean Greek settlers, if not settlements, dating from that time unearthed there. Direct settlements were established probably in the late 13th century BCE, according to archaeological finds.\n",
      "\n",
      "## Legacy\n",
      "\n",
      "The campaigns of Attarsiya represent the earliest recorded Mycenaean Greek military activity on the Anatolian mainland, as well as the first conflict between Achaeans and Hittites. It appears that these military developments had a certain impact on the local populations. In this context, a decorated shard of pottery from the Hittite capital, Hattusa, depicts a warrior with body armor and boar's tusk helmet, typical of Achaean warfare, while the Hittite king offers a Mycenaean type thrusting sword to the Storm God, Teshub.\n",
      "\n",
      "Despite the withdrawal of Attarsiya after the Hittite intervention, the following decades (circa 1380-1320 BCE) were a period of Mycenaean expansion on the Anatolian coast. Achaean military activity in the region continues to be attested through several Hittite records until circa 1250 BCE.\n",
      "\n",
      "### Link with mythical Atreus\n",
      "\n",
      "It has been suggested by several scholars that the term Attarsiya might be a possible Hittite reconstruction of the Greek name Atreus, a mythical king of Mycenae and father of Agamemnon. However, other scholars argue that even though the name is probably Greek, since he is described as an Ahhiya and connected to Atreus, the person carrying the name is not necessarily identical to the famous Atreus of Greek mythology.\n",
      "\n",
      "According to an alternative view presented by Hittitologist Albrecht Goetze, Attarsiya might possibly be a possessive adjective, meaning \"belonging to Atreus\" (Atreides), which was a typical Homeric term to refer to the sons of Atreus, Agamemnon and Menelaus, throughout the Iliad. British scholar Martin Litchfield West suggested that Atreus is a shorter form of an older Greek Bronze Αge era name, more closely connected with Attarsiya, like Atresias, Atersias or Atarsias.\n",
      "\n",
      "A further possible link to the grecophone sphere is the Linear B term ta-ra-si-ja, well attested in Pylian tablet series JN, a word which means \"copper/bronze allotment\" or \"weight unit of copper/bronze\", or something similar, applied to metalworkers. In the Pylos JN 415 tablet, there is also found an adjective a-ta-ra-si-jo, meaning \"without copper/bronze\". The context in which ta-ra-si-ja occurs during the Late Helladic period suggests that those who produced or worked with the allocated raw materials were a large work force and the work was of a low-paid status. Worth noting at Pylos around 1200 BCE is the independence of a-ta-ra-si-jo smiths from allotments accorded ta-ra-si-ja smiths. It was evidently optional for anyone able to obtain sufficient quantities of copper or bronze from sources outside the palace to do so as an a-ta-ra-si-jo.\n",
      "\n",
      "## Possibility of a Mycenaean empire\n",
      "\n",
      "It has been established in modern scholarship that the Hittite term Ahhiya (or Ahhiyawa in latter texts) refers to Mycenaean Greek territory and its inhabitants, the Achaeans, one of the names that Homer used to refer to the Greeks in the Iliad. Historically important about the Achaeans in the time of Attarsiya is that they undertook an expedition to Anatolia, as well as Cyprus. The latter expedition indicates that the Achaean leader commanded a significant fleet and that the Achaeans were a sea power.\n",
      "\n",
      "According to the Hittite inscriptions, it appears that the Ahhiya were a powerful empire, at the same scale as contemporary Egypt, Assyria and the Hittite Empire. Moreover, based on the fact that Attarsiya launched a military campaign in Anatolia and fielded one hundred chariots, in addition to infantry, Dutch researcher Jorrit Kelder suggested that Ahhiya must have had the military capacity of at least three times the size of the Mycenaean kingdom of Pylos, based on the information recorded on the Linear B tablets unearthed from the specific palace. Based on this view, the Achaeans under Attarsiya may have formed some kind of alliance which included several Mycenaean kingdoms.\n"
     ]
    }
   ],
   "source": [
    "print(ex[-37][\"markdown\"])"
   ]
  },
  {
   "cell_type": "markdown",
   "id": "254a8ce8-8fac-474a-a192-db81a21bfdaf",
   "metadata": {},
   "source": [
    "## Huggingface Test"
   ]
  },
  {
   "cell_type": "code",
   "execution_count": 22,
   "id": "ce91b346-24c9-44b6-8444-6e271c4a9795",
   "metadata": {},
   "outputs": [],
   "source": [
    "from datasets import load_dataset"
   ]
  },
  {
   "cell_type": "code",
   "execution_count": 23,
   "id": "e8fb45ea-acd3-4ee3-a045-ea77cf51c0f3",
   "metadata": {},
   "outputs": [
    {
     "data": {
      "application/vnd.jupyter.widget-view+json": {
       "model_id": "ba56d721846f46cabd83f5b987badb8d",
       "version_major": 2,
       "version_minor": 0
      },
      "text/plain": [
       "Downloading readme:   0%|          | 0.00/10.3k [00:00<?, ?B/s]"
      ]
     },
     "metadata": {},
     "output_type": "display_data"
    },
    {
     "data": {
      "application/vnd.jupyter.widget-view+json": {
       "model_id": "5b0683c525f947dd9ffde70e5cf0fb99",
       "version_major": 2,
       "version_minor": 0
      },
      "text/plain": [
       "Downloading data files:   0%|          | 0/1 [00:00<?, ?it/s]"
      ]
     },
     "metadata": {},
     "output_type": "display_data"
    },
    {
     "data": {
      "application/vnd.jupyter.widget-view+json": {
       "model_id": "eb00069b241e4408bc2090116f5790e8",
       "version_major": 2,
       "version_minor": 0
      },
      "text/plain": [
       "Downloading data:   0%|          | 0.00/483M [00:00<?, ?B/s]"
      ]
     },
     "metadata": {},
     "output_type": "display_data"
    },
    {
     "data": {
      "application/vnd.jupyter.widget-view+json": {
       "model_id": "eb82c2efb38a46efbee458d619a79bc4",
       "version_major": 2,
       "version_minor": 0
      },
      "text/plain": [
       "Extracting data files:   0%|          | 0/1 [00:00<?, ?it/s]"
      ]
     },
     "metadata": {},
     "output_type": "display_data"
    },
    {
     "data": {
      "application/vnd.jupyter.widget-view+json": {
       "model_id": "479ae30a9f29455bb094819f8e3d1cdb",
       "version_major": 2,
       "version_minor": 0
      },
      "text/plain": [
       "Generating train split: 0 examples [00:00, ? examples/s]"
      ]
     },
     "metadata": {},
     "output_type": "display_data"
    }
   ],
   "source": [
    "ds = load_dataset(\"euirim/goodwiki\")"
   ]
  },
  {
   "cell_type": "code",
   "execution_count": 25,
   "id": "375b38da-1e6f-4ba4-bbc4-5ab756f4d384",
   "metadata": {},
   "outputs": [
    {
     "data": {
      "text/plain": [
       "{'pageid': [57185536, 15394015],\n",
       " 'title': ['Georgia Hopley', 'Willis Ward'],\n",
       " 'revid': [1163683705, 1170257280],\n",
       " 'description': ['American journalist and temperance advocate',\n",
       "  'Track and field athlete and American football player'],\n",
       " 'categories': [['1858 births',\n",
       "   '1944 deaths',\n",
       "   '19th-century American journalists',\n",
       "   '19th-century American women journalists',\n",
       "   '19th-century American women writers',\n",
       "   '20th-century American journalists',\n",
       "   '20th-century American women journalists',\n",
       "   'American temperance activists',\n",
       "   'Hopley family',\n",
       "   'Journalists from Ohio',\n",
       "   'Ohio Republicans',\n",
       "   'People from Bucyrus, Ohio'],\n",
       "  ['1912 births',\n",
       "   '1983 deaths',\n",
       "   '20th-century African-American lawyers',\n",
       "   '20th-century African-American sportspeople',\n",
       "   '20th-century American lawyers',\n",
       "   'African-American players of American football',\n",
       "   'American football ends',\n",
       "   'Detroit College of Law alumni',\n",
       "   'Michigan Wolverines football players',\n",
       "   \"Michigan Wolverines men's track and field athletes\",\n",
       "   'Michigan lawyers',\n",
       "   'Northwestern High School (Michigan) alumni',\n",
       "   'Players of American football from Detroit']],\n",
       " 'markdown': ['Georgianna Eliza Hopley (1858–1944) was an American journalist, political figure, and temperance advocate. A member of a prominent Ohio publishing family, she was the first woman reporter in Columbus, and editor of several publications. She served as a correspondent and representative at the 1900 Paris Exposition and the 1901 Pan-American Exposition. She was active in state and national politics, serving as vice-president of the Woman\\'s Republican Club of Ohio and directing publicity for Warren G. Harding\\'s presidential campaign.\\n\\nIn 1922 Hopley became the first woman prohibition agent of the United States Bureau of Prohibition, where she was involved in education and publicity. She resigned among criticism of the costs of her publicity and the scope of her duties.\\n\\n## Early life\\n\\nGeorgia Hopley was born April 29, 1858, in Bucyrus, Ohio. Her father, John P. Hopley (1821–1904), was longtime editor of the Bucyrus Evening Journal, and her mother, Georgianna (Rochester) Hopley was active in the temperance movement of the 1870s. Georgia was the sixth child out of a family of three daughters and seven sons, one of whom died in childhood. All but one of her surviving siblings would follow their father into the newspaper business.\\n\\nHopley was educated in Bucyrus Union Schools and then abroad, spending one year in Paris and three in London. Her involvement in temperance began during high school. In Ohio she worked as a reporter and writer in the offices of her father and brothers.\\n\\n## Journalism and politics\\n\\nWhile working in the office of a brother who was then secretary of the Ohio Prohibition Party, Hopley conceived the idea that a woman should be better qualified to report certain events for newspapers than a man. She wrote a letter to a Columbus, Ohio, newspaper editor stating as much, and was invited to become a society editor and feature writer. Hopley thus became known as the first woman reporter assigned to regular work in Columbus. In 1893 she became editor and owner of The Columbus School Journal, a periodical for Columbus parents, students, and teachers, and in the early 1900s was editor of the Columbus Press Post.\\n\\nIn 1900, she was appointed by Ohio Governor George K. Nash to represent Ohio at the Paris Exposition. While there she continued her newspaper work as correspondent for a bureau of United States publications as well as the Associated Press and Scripps-McRae syndicate. In 1901, she was again appointed by Governor Nash as a member of the Board of Women Managers of the Pan-American Exposition in Buffalo. In the fall of that year she was appointed by Commissioner M. B. Ratchford, State Bureau of Labor Statistics, as special inspector of workshops and factories with a view to bettering the condition of women and children. This took her to many factories and before workers, to whom she spoke in the evenings.\\n\\nIn 1918, she was appointed by E. M. Fullington, chairman of the Ohio Republican Advisory Committee to supervise the work of the women and publicity in the campaign for governor and for nationwide prohibition. In 1919 she was appointed by the Franklin County, Ohio Republican committee to conduct the women\\'s campaign and publicity in the municipal election. In the summer of that year, she was engaged on the publicity force at the time of the World\\'s Methodist Centenary in Columbus. In 1920 she was chosen by the Republican State Chairman of Columbus to supervise publicity in the Republican pre-primary campaign for Warren G. Harding and in the fall was engaged to conduct the same work for the presidential campaign. She was one of the hostesses at the Congress Hotel when the Republican National Convention was held in Chicago.\\n\\nHopley served as vice-president of the Woman\\'s Republican Club of Ohio, chair of the Civic Improvement Committee, and was a member of the Woman\\'s Christian Temperance Union and Order of the Eastern Star.\\n\\n## Prohibition agent\\n\\nIn early 1922, Hopley was sworn in as the first female general agent of the Bureau of Prohibition (then a unit of the Bureau of Internal Revenue), serving under Federal Prohibition Commissioner Roy A. Haynes. Her appointment made news around the country. She traveled the nation, speaking on prohibition, law enforcement, and women\\'s voting issues. Haynes told Congress that Hopley was employed not as an enforcement agent but to give information as part of \"wise propaganda work\". She decried films that belittled or made light of prohibition. She also highlighted the problem of women bootleggers, telling a reporter: \"There you have the worst problem for prohibition officials. [Women] resort to all sorts of tricks, concealing metal containers in their clothing, in false bottoms of trunks and traveling bags, and even in baby buggies.\" Her hiring encouraged local law enforcement agencies to hire more women to investigate women bootleggers. In August 1922 she estimated that \"dry laws\" of the Volstead Act had decreased liquor drinkers in America by 17,500,000, and urged women to actively support dry laws through civic and religious organizations. Her philosophy was driven by a quote from Abraham Lincoln: \"Let reverence for the laws be the political religion of the nation.\"\\n\\nThe cost and scope of Hopley\\'s duties drew some criticism. David H. Blair, the Internal Revenue Commissioner, requested she resign in 1924, but she was supported by Haynes. In 1925, General Lincoln C. Andrews, the new Assistant Secretary of the Treasury in charge of Prohibition enforcement, demanded Hopley resign as part of his reorganization of the Bureau. Despite support from Haynes and prominent Ohio politicians, Hopley resigned from the Bureau in July 1925, when it was determined her activities were outside the scope of the federal government, and publicity expenditures of around \\\\$50,000 drew criticism.\\n\\n## Later years\\n\\nAfter leaving the Prohibition Bureau, Hopley returned to journalism, focusing on women\\'s suffrage. In her later years she lived in Bucyrus with her brothers, former State Senator James R. Hopley, and Frank L. Hopley, of the Lincoln Highway Council. She died in Bucyrus on July 1, 1944, at the age of 86.',\n",
       "  'Willis Franklin Ward (December 28, 1912 – December 30, 1983) was a track and field athlete and American football player who was inducted into the University of Michigan Athletic Hall of Honor in 1981.\\n\\nWard was the Michigan High School Athlete of the Year, after setting a national prep record in the high jump. At the University of Michigan, he was a collegiate champion in the high jump, the long jump, the 100-yard dash, and the 440-yard dash, and finished second in the voting for the Associated Press Big Ten Athlete of the Year award in 1933. In track and field he was a three-time All-American and eight-time Big Ten champion.\\n\\nIn football, Ward was only the second African-American to win a varsity letter for the Michigan Wolverines football team, lettering in 1932, 1933, and 1934. In 1934, a controversy developed when Georgia Tech refused to play if Ward took the field, and university officials opted to keep Ward out of the game. Teammate Gerald R. Ford reportedly threatened to quit the team in response to the university\\'s decision. After being excluded from the Georgia Tech game, Ward went on to score all 12 of Michigan\\'s points that year outside of the Georgia Tech game, without another Wolverine even having an extra point or a field goal.\\n\\nWard later became a lawyer in Detroit and up through World War 2 he worked for Ford Motor Company in the Service Division as a voice for black workers, but also helping Ford oppose labor unions; later he was a member of the Michigan Public Service Commission from 1966 to 1973, serving as chairman from 1969 to 1973. He also served as a probate court judge in Wayne County, Michigan.\\n\\n## Early years\\n\\nWard was born in Alabama in 1913. His father, Henry R. Ward, was an Alabama native who moved to Detroit and worked there in a Ford Motor Company factory. His mother, Bessie, was a Georgia native.\\n\\nWard attended Detroit\\'s Northwestern High School where he excelled in both track and football. As a high school junior, he was named Michigan High School Athlete of the Year, after setting a national prep record in the high jump at 6–4.5. He was city champion in the low hurdles (with a time of 13.0) and the high hurdles (with a time of 15.8). Ward also won the 220 hurdles at Ann Arbor (with a time of 25.9) and Class A (with a time of 26.1).\\n\\n## University of Michigan\\n\\n### Freshman track star\\n\\nWard attended the University of Michigan from 1931 to 1935, where he became one of the most successful track athletes in the school\\'s history. As a freshman in 1932, Ward\\'s specialty was the high jump. Ward won the NCAA high jump championship in June 1932 with a jump of 6–7 1/3. He jumped as high as 6-7-1/2 in his freshman year. Ward\\'s best jump in 1932 was two inches above the mark that won the gold medal at the 1932 Summer Olympics (Canada\\'s Duncan McNaughton won the gold with a jump of 6 feet, 51⁄2 inches), but Ward did not qualify for the team.\\n\\nWard\\'s accomplishments were not limited to the high jump. An Associated Press article in 1932 noted: \"His specialty is the high jump for which he has a mark of 6 feet 71⁄2 inches. He can run the high hurdles and the low hurdles. He has broad jumped 22 feet without training in that event. He put the 16-pound shot over 43 feet without prior experience, and it believed he might be developed into a world champion weight man. He unquestionably could be trained to do the springs. He is only 19. Ward has an ideal build for a track man, six feet, one inch tall, 185 pounds of well-distributed weight, good legs, natural co-ordination. He is quiet and unassuming, and popular with coaches and fellow members of the squad.\"\\n\\nWhen Ward decided to try out for the football team as a sophomore, Michigan track fans worried that Ward would be injured. The Associated Press reported: \"University of Michigan track fans do a lot of worrying these days because a Negro boy from Detroit insists on playing football. Willis Ward, they believe, will be the greatest track man ever to compete for the Maize and Blue—if he doesn\\'t get hurt. ... Ward is a good football player and loves the game. . . . Well wishers even have told him about the advantages of competing only in track and staying away from the gridiron, but he is determined to play on the eleven, and he is good enough to make the grade.\" Michigan\\'s track coach, Chuck Hoyt, noted that \"Ward is his own boss and football is his recreation.\"\\n\\n### First African-American football player in 40 years\\n\\nIn addition to the concerns of track fans, Ward\\'s decision to try out for the football team raised issues of race. Though George Jewett had broken the race barrier as Michigan\\'s first African-American football player in 1890, Michigan had not played another African-American in the 40 years after Jewett. During Fielding Yost\\'s tenure as coach several African-American students joined the football team, but records indicate that none of them ever saw game action and only one earned even a \"reserve letter\". Some reports attribute the de facto segregation of the football team to racism on the part of Yost, who was the son of a Confederate soldier.\\n\\nWhile in high school, Ward had decided to attend Dartmouth College. With head coach Harry Kipke\\'s assurance that he would be given full opportunity to play football, Ward enrolled at Michigan. Kipke had played with African-American athletes in high school and was eager to have Ward on his team. According to John Behee, the author of a book on the history of African-American athletes at Michigan, Kipke \"threatened to fight, physically fight, those alumni and fellow coaches who opposed his playing Ward.\" Behee wrote that \"on several occasions Kipke took off his coat and was prepared to fight with those who bitterly opposed having a Negro play for Michigan.\"\\n\\nWard got the opportunity to prove himself in spring football practice in May 1932. According to one account, Kipke ordered his veterans to pound Ward \"without mercy\" during practice. \"If, at the end of the week\", said Kipke, \"he doesn\\'t turn in his uniform, then I know I\\'ve got a great player.\" The United Press reported on the results of spring practice: \"Three young freshmen at the University of Michigan—Jerry Ford, of Grand Rapids; Russell Oliver, of Pontiac, and Willis Ward, Detroit Negro—displayed such brilliance during spring football practice that they are expected to become important cogs next fall in the Wolverine varsity eleven.\" Another report in July 1932 described Ward, the \"giant negro,\" as being \"the outstanding athlete becoming eligible for play.\"\\n\\nWard made the team in 1932 and started four games at end. Ivy Williamson, captain of the 1932 football team, greeted Ward at the field house and told him, \"If you have any problems with anybody, let me know because we\\'re prepared to take care of them.\" Reporting on his decision to play football and risk injury, the Associated Press noted: \"Ward would rather win an \\'M\\' on the gridiron than be an Olympic champion.\"\\n\\nThe 1932 Michigan Wolverines football team went 8–0, outscored its opponents 123–13, and won the national championship.\\n\\n### 1933 track season\\n\\nDuring the 1933 track season, Ward was so dominant that he was dubbed Michigan\\'s \"one-man track team\" and became a national sensation. He led Michigan to Big Ten championships in both indoor and outdoor track. Going into the Big Ten track meet in May 1933, Ward was expected to dominate. Coach Hoyt described Ward as \"a good \\'un,\" and praised him for his unassuming character and tolerance of the spotlight of publicity. One report noted: \"He is altogether likeable, for he always speaks without raising his voice and never protests a decision. ... Ward is a star now, but he is just finishing his first year of competition. Unless injuries hamper him it is likely he will be as great an attraction or possibly even greater than the two Negro track stars who preceded him here, DeHart Hubbard and Eddie Tolan.\"\\n\\nMichigan won the Big Ten meet with 601⁄2 points, with Ward individually accounting for 18 points. One writer noted that the Wolverines would have finished in second place \"without the huge, versatile negro.\" At the meet, Ward won the 100-yard dash and the high jump and placed second in the 120 yard high hurdles and the broad jump. His performance at the Big Ten meet was described as \"the greatest individual performance since Carl Johnson scored 20 points for Michigan in 1918.\"\\n\\nEven TIME magazine took note of Ward\\'s dominating performance. Time noted: \"The other entrants in the Intercollegiates last week had reason to consider with awe another athlete who—until he helped Michigan win the Western Conference title last week, with 601⁄2 points to Indiana\\'s 471⁄2 had not often been heard of outside the Midwest, except as a member of Michigan\\'s football team. He was Willis Ward, 196-lb. Negro sophomore. At the Big Ten meet in Evanston last week. Willis Ward won the 100-yd. dash in 9.6 sec. He won the high jump, placed second in the broad jump. In the 120-yd. high hurdles, he forced Ohio State\\'s Jack Keller to world\\'s record time of 14.1 sec., finished a close second. The 18 points he won were what enabled Michigan to beat Indiana. They made his the most efficient individual performance in a Big Ten meet since Carl Johnson scored 20 points for Michigan in 1918. Quiet, unassuming, an above-average student of literature, Ward was the first Negro ever elected to Sphinx, Michigan\\'s junior honor society.\"\\n\\nAt the Drake Relay Carnival in April 1933, he finished second in the 100-yard dash, narrowly losing to Ralph Metcalfe. The 1934 Michigan yearbook, the Michiganensian, noted: \"Michigan climaxed a successful season by winning the Annual Butler Relays and taking the title from Indiana. Willis Ward won the meet almost single-handed when he scored thirteen of the team\\'s 183⁄4 points. In winning the 60 yard dash, the Flashy negro star equaled the recognized world mark of 6.2 seconds.\" At the Big Ten indoor track championship, the Michiganensian noted that Ward, \"Michigan\\'s all around athlete, was easily the outstanding star of the meet.\" Ward won the 60-yard dash, the 70-yard high hurdles and the high jump.\\n\\n### 1933 football season\\n\\nIn 1933, Ward started all eight games for Michigan at right end and was a key player in Michigan\\'s second consecutive undefeated football season and national championship. Time magazine credited the work of Ward and halfback Herman Everhardus: \"Michigan came perilously close to slipping from the top of the Big Ten, where it has been for three years. That it did not slip was largely due to a crack halfback named Herman Everhardus and to Willis Ward, a rangy Negro end. It was Ward who, after hard-fighting Illinois had marched to a touchdown in the first period, shot through and blocked the place kick which would have given Illinois a seventh point.\" After the season was over, Coach Kipke also credited the play of Everhardus and his ends for the undefeated season: \"Our ends, Ward and Petoskey, were near perfection.\" Michigan\\'s left end, Ted Petoskey was named a first-team All-American in 1933, and Ward earned honorable mention All-American honors at right end.\\n\\n### Runner up for 1933 Big Ten athlete of the year\\n\\nIn December 1933, Ward finished second in close balloting for the Associated Press Big Ten Athlete of the Year award. The AP reported that Duane Purvis of Purdue beat Ward \"by the slender margin of two votes.\" In the AP\\'s polling of conference coaches and sports writers, 55 votes were cast, with Purvis receiving 17 votes to 15 for Ward, described by the AP as \"Michigan\\'s \\'one-man track team.\\'\" The AP pointed to Ward\\'s dual contributions in football and track: \"Ward, in addition to his feats in track, was one of the bright stars of Michigan\\'s championship football team this fall. Fast and rangy, he was classed as one of the finest wingmen in football. In track, he has run the century in 9.6, high jumped 6 feet 71⁄2 inches, leaped 24 feet in the broad jump and won his share of glory in the high hurdles.\"\\n\\n### 1934 track season\\n\\nIn 1934, Ward won the Big Ten long jump championship with a distance of 23–21⁄4.\\n\\n### 1934 football season\\n\\nThe 1934 football season proved to be one of the low points in the school\\'s history, both because of the team\\'s 1–7 record, and the ugly racial incident that kept Ward out of the game against Georgia Tech. Though excluded from the Georgia Tech game, Willis started every other game—five games at right end, and two games at halfback. Michigan scored only 21 points in the entire 1934 season, and Ward scored 12 of those points. In fact, Michigan scored nine points against Georgia Tech and Ward\\'s 12 points were the only points scored by the Wolverines in the seven games in which Ward played. Michigan was shut out in the first two games, before beating Georgia Tech in the season\\'s third game. The following week, Michigan lost to Illinois, 7–6, as Ward scored Michigan\\'s only touchdown from the line of scrimmage of the entire 1934 season. (The season\\'s only other touchdown came on a punt return against Georgia Tech.) Ward\\'s touchdown came on a trick play, as fullback Johnny Regeczi passed the ball to end Mike Savage who lateraled to Ward. According to the Chicago Tribune, the lateral \"enabled the fleet Negro to outfoot the Illinois secondary.\" After being shut out in three games after the Illinois match, Michigan closed the season with a 13–6 loss to Northwestern. Michigan\\'s only points against Northwestern came on two field goals by Ward. Thus, all 12 of Michigan\\'s 1934 points outside the Georgia Tech game were scored by Ward, without another Wolverine even having an extra point or a field goal.\\n\\n### 1934 Georgia Tech game\\n\\nDespite his many accomplishments, the event for which Ward is most remembered is the game he did not play. In 1934, Michigan had scheduled Georgia Tech as the third game of the season. After learning that Michigan had an African-American player, Georgia Tech football coach and athletic director W. A. \"Bill\" Alexander refused to allow his team to take the field if Ward played. As early as the fall of 1933, Alexander wrote to Yost asking what was going to be done about Ward, asserting that his team would not take the field if Ward played.\\n\\nAs the game approached, word spread that Georgia Tech was insisting that Ward not play, and that the administration might capitulate to the demand. Ward\\'s right to play became a major controversy on the campus. Mass meetings and demonstrations were held. Some students and faculty demanded that either Ward must play or the game should be canceled. Petitions were circulated, and formal protests were lodged with the university by the Ann Arbor Ministerial Association, the NAACP, the National Student League and many other groups. The student newspaper, The Michigan Daily, opined: \"If the athletic department forgot it had Ward on its football team when it scheduled a game with Georgia Tech, it was astonishingly forgetful; ... if it was conscious of Ward\\'s being on the team but scheduled the game anyway, it was extraordinarily stupid.\"\\n\\nTime magazine ran a story about the uproar on Michigan\\'s campus: \"Fifteen hundred Michigan students and faculty members signed a petition asking that the team\\'s star end, Negro Willis Ward, be allowed to play against Georgia Tech.\" According to Time, 200 \"campus radicals\" threatened to prevent the game from being played by standing in the middle of the field. Rumors of a sit-down protest on the 50-yard line during the game spread across campus in the week before the game. One alumnus recalled that, the night before the game, \"bonfires lit all over the campus echoed with screams of student anger, and \\'Kill Georgia Tech\\' was heard throughout Ann Arbor.\" In an attempt to thwart any attempt to disrupt the game, Yost hired a Pinkerton agent to infiltrate \"The United Front Committee on Ward\", a conglomerate of student organizations that supported Ward\\'s right to play.\\n\\nAthletic authorities argued that Ward should not play because it would be discourteous to Georgia Tech, and he might be injured. There was fear that if Ward played, he would be injured by malicious blows after the play had ended. Playwright Arthur Miller, then a writer for Michigan\\'s student newspaper, learned first-hand about the strong resistance among the Georgia Tech team to playing on the same field with an African-American athlete. In his biography of Miller, Enoch Brater noted that Miller had friends from Arkansas who knew one of the Georgia Tech players. Brater described Miller\\'s involvement this way: \"Remmel [Miller\\'s friend from Arkansas] took Miller with them to meet with members of the team, to protest but also to appeal to the athletes\\' sense of fair play. \\'Miller was right in the middle of this\\', Remmel recalls. Not only did the visiting team rebuff \\'the Yankee\\' Miller \\'in salty language\\', but they told him they would actually kill Ward if he set one foot on the Michigan gridiron. \\'The Georgia Tech team was wild.\\' Miller was furious. He \\'went immediately to the office of the Michigan Daily and wrote an article about it, but it was not published.\\' . . . Remmel said that Miller \\'could not believe that the Georgia Tech team would have tried to destroy Willis Ward—but, I am sure they would have.\\'\"\\n\\nIn the end, Ward was not allowed to play. But in exchange, Georgia Tech agreed to reciprocate by benching their own star end, Hoot Gibson. As his teammates faced Georgia Tech, there are conflicting reports as to Ward\\'s whereabouts. According to Time, Ward \"sat calmly in a radio booth, watched his teammates defeat the Southerners, 9-to-2, earning what turned out to be their only win of the season.\" According to Behee, Ward was not even allowed to watch the game from the press box, or even from the bench of his own stadium. Instead, he spent the afternoon in a fraternity house. A third account states that Kipke \"quietly sent Willis Ward off to scout another Michigan game in Wisconsin.\" The day after the Georgia Tech game was played, an editorial ran in The Michigan Daily stating \"that everyone who touched (the Ward affair) did so only to lose in respect and esteem.\" In Georgia, some sports journalists and fans blamed the player exchange for the loss. Journalist Ralph McGill said \"Willis Ward won the football game,\" arguing the loss of Gibson hurt Georgia Tech more than the loss of Ward hurt Michigan.\\n\\n### Gerald Ford\\'s role in the Georgia Tech controversy\\n\\nThe school\\'s refusal to play Ward in the Georgia Tech game later became part of the public legacy of President Gerald R. Ford. Ward recalled that he met \"my man Jerry\" during freshman orientation in 1932, and the two became friends and roommates when the football team traveled for road games. When Ford learned that the school had capitulated to Georgia Tech, some accounts indicate that he \"quit the team\" or threatened to quit in order \"to make a statement and take a stand because Willis Ward was his friend.\" Ford wrote about the Georgia Tech incident in his autobiography, recalling that he felt the decision to keep Willis out of the game was \"morally wrong.\" \"I went to Willis himself. He urged me to play. \\'Look,\\' he said, \\'the team\\'s having a bad year. We\\'ve lost two games already and we probably won\\'t win any more. You\\'ve got to play Saturday. You owe it to the team.\\' I decided he was right. That Saturday afternoon, we hit like never before and beat Georgia Tech 9–2.\" Years later, Ford wrote that the Ward incident had influenced his thinking about race. Ford noted: \"His sacrifice led me to question how educational administrators could capitulate to raw prejudice.\" Ford used the story to voice his support for U-M\\'s affirmative action admissions policy saying, \"Do we really want to risk turning back the clock to an era when the Willis Wards were isolated and penalized for the color of their skin, their economic standing or national ancestry?\"\\n\\nIn 1976, Ward, then a probate court judge in Wayne County, said that Ford never mentioned the incident to him, but that Ford\\'s brother later told him about it. \"Jerry was very concerned,\" Ward recalled. \"His brother told me, \\'Jerry was so upset he wrote father asking him if he should quit the team. He was that angry.\\'\" At Ford\\'s funeral, President George W. Bush also spoke about the Willis Ward incident. Bush said: \"Long before he was known in Washington, Gerald Ford showed his character and his leadership. As a star football player for the University of Michigan, he came face to face with racial prejudice when Georgia Tech came to Ann Arbor for a football game. One of Michigan\\'s best players was an African American student named Willis Ward. Georgia Tech said they would not take the field if a black man were allowed to play. Gerald Ford was furious at Georgia Tech for making the demand, and for the University of Michigan for caving in. He agreed to play only after Willis Ward personally asked him to. The stand Gerald Ford took that day was never forgotten by his friend. And Gerald Ford never forgot that day either and three decades later, he proudly supported the Civil Rights Act and the Voting Rights Act in the United States Congress.\"\\n\\n### Impact of Racism on Ward\\n\\nWard proved to be one of the most successful athletes in the history of the University of Michigan. He earned six varsity letters in football and track. In track, he won Big Ten titles in the 100-yard dash in 1933; in the high jump in 1933 and 1935; in the 400 meter dash in 1933; and in the long jump in 1934. On several occasions, Ward even beat Jesse Owens in the 100-yard dash. Because of his all-around skills, Ward was considered a likely contender for the U.S. decathlon team in the 1936 Olympics.\\n\\nHowever, the Georgia Tech incident left Ward angry and disillusioned. He recalled that it sapped his competitive spirit. Ward considered quitting football, even writing a letter to Coach Kipke about his intentions of leaving the team. He recalled later that the refusal to let him play against Georgia Tech destroyed his will. \"It was the fact that I couldn\\'t play in the Georgia Tech game. That all of a sudden, the practice that you just did because it was the thing to do that was good—a tremendous amount of burnt up energy—all of a sudden becomes drudgery.\" His one sports highlight in 1935 was beating Jesse Owens at Yost Fieldhouse in the 60-yard dash and 65 high hurdles. Ward\\'s times were neck-and-neck with Owens\\' up until the NCAA track and field championship. He took part in the Olympic trials in 1936, but having lost his competitive drive, Ward, in his own words, did not train to his peak and failed to make the U.S. team. \"They were urging me to go out in \\'36,\" Ward recalled. \"But that Georgia Tech game killed me. I frankly felt they would not let black athletes compete. Having gone through the Tech experience, it seemed an easy thing for them to say \\'Well, we just won\\'t run \\'em if Hitler insists.\\'\" Interviewed about the incident in 1976, Ward said: \"It was like any bad experience—you can\\'t forget it, but you don\\'t talk about it. It hurts.\" But Ward would eventually come to the Owens\\' aid.\\n\\nFollowing the 1936 Olympics and Owens winning four gold medals, racism back home led to difficulty earning a living despite his international acclaim. Owens struggled to find work and took on menial jobs as a gas station attendant, playground janitor, and manager of a dry cleaning firm and at times resorted to racing against motorbikes, cars, trucks and horses for a cash prize.\\n\\nProhibited from making appearances at amateur sporting events, such commercial offers eventually disappeared. Willis Ward had befriended Owens, his former track competitor, while a student at the University of Michigan. In 1942, Ward worked as a director for the Ford Motor Company\\'s \"ad hoc civil rights division, serving as the liaison between black and white workers\" and an advocate for African American employees in the personnel department. He invited Owens to Detroit to replace him and remained with Ford until 1946.\\n\\n## Later years\\n\\nWillis Ward went on to earn a law degree from Detroit College of Law in 1939 and had a distinguished career as a lawyer and judge. In 1964, Ward spoke out against Barry Goldwater and in favor of Michigan Governor George Romney as a possible Presidential candidate. In 1966, Romney appointed Willis to the Michigan Public Service Commission, the state agency responsible for regulating Michigan\\'s public utilities; Willis became chairman of the PSC in 1969, serving in that capacity until 1973. Ward later was elected a probate judge in Wayne County, Michigan.\\n\\nWard was inducted into the University of Michigan Athletic Hall of Honor in 1981, as part of the fourth group inducted.']}"
      ]
     },
     "execution_count": 25,
     "metadata": {},
     "output_type": "execute_result"
    }
   ],
   "source": [
    "ds[\"train\"][0:2]"
   ]
  },
  {
   "cell_type": "code",
   "execution_count": null,
   "id": "a700eee2-a9eb-4dbb-a623-79a99ee896cb",
   "metadata": {},
   "outputs": [],
   "source": []
  }
 ],
 "metadata": {
  "kernelspec": {
   "display_name": "Python 3 (ipykernel)",
   "language": "python",
   "name": "python3"
  },
  "language_info": {
   "codemirror_mode": {
    "name": "ipython",
    "version": 3
   },
   "file_extension": ".py",
   "mimetype": "text/x-python",
   "name": "python",
   "nbconvert_exporter": "python",
   "pygments_lexer": "ipython3",
   "version": "3.11.1"
  }
 },
 "nbformat": 4,
 "nbformat_minor": 5
}
