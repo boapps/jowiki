{
 "cells": [
  {
   "cell_type": "code",
   "execution_count": 1,
   "id": "d49c65f5-ccbc-412c-901d-91df5a3f3608",
   "metadata": {},
   "outputs": [],
   "source": [
    "import sys\n",
    "sys.path.append(\"..\")"
   ]
  },
  {
   "cell_type": "code",
   "execution_count": 2,
   "id": "18de7633-38bb-4990-b4ce-0e1948ab1910",
   "metadata": {},
   "outputs": [],
   "source": [
    "from src.utils import count_tags, count_templates"
   ]
  },
  {
   "cell_type": "code",
   "execution_count": 3,
   "id": "8f0d5ce3-5b13-4553-bee9-a6eeb9ef8746",
   "metadata": {},
   "outputs": [],
   "source": [
    "data_file = \"../data/1691991229/raw.parquet\""
   ]
  },
  {
   "cell_type": "markdown",
   "id": "39ad6181-b394-4ced-a034-a5881ba272a4",
   "metadata": {},
   "source": [
    "## Count templates"
   ]
  },
  {
   "cell_type": "code",
   "execution_count": 4,
   "id": "e50ace90-5898-428c-ad30-26c2590cc4e6",
   "metadata": {},
   "outputs": [
    {
     "name": "stderr",
     "output_type": "stream",
     "text": [
      "100%|█████████████████████████████████████████| 348/348 [03:10<00:00,  1.83it/s]\n"
     ]
    }
   ],
   "source": [
    "template_count, temp_counts_by_article = count_templates(data_file)"
   ]
  },
  {
   "cell_type": "code",
   "execution_count": 19,
   "id": "7fa708b6-539a-49fe-8834-d37fd547886e",
   "metadata": {},
   "outputs": [
    {
     "data": {
      "text/plain": [
       "44532"
      ]
     },
     "execution_count": 19,
     "metadata": {},
     "output_type": "execute_result"
    }
   ],
   "source": [
    "len(temp_counts_by_article)"
   ]
  },
  {
   "cell_type": "code",
   "execution_count": 5,
   "id": "79f4d864-cef2-4ad9-84b1-dd07dcad2ffb",
   "metadata": {},
   "outputs": [
    {
     "data": {
      "text/plain": [
       "[('sfn', 683372),\n",
       " ('convert', 191941),\n",
       " ('cite book', 66515),\n",
       " ('lang', 43685),\n",
       " ('short description', 38063),\n",
       " ('rp', 36382),\n",
       " ('good article', 28501),\n",
       " ('sfnp', 28227),\n",
       " ('efn', 26423),\n",
       " ('main', 25637),\n",
       " (\"'\", 25015),\n",
       " ('cite web', 20584),\n",
       " ('r', 19211),\n",
       " ('cvt', 18996),\n",
       " ('cite journal', 17478),\n",
       " ('nbsp', 17300),\n",
       " ('use dmy dates', 15354),\n",
       " ('sfnm', 15331),\n",
       " ('jct', 14594),\n",
       " ('refn', 12763),\n",
       " ('certification table entry', 11620),\n",
       " ('use mdy dates', 10686),\n",
       " ('see also', 10005),\n",
       " ('clear', 9868),\n",
       " ('cite news', 9565)]"
      ]
     },
     "execution_count": 5,
     "metadata": {},
     "output_type": "execute_result"
    }
   ],
   "source": [
    "template_count.most_common(25)"
   ]
  },
  {
   "cell_type": "code",
   "execution_count": 6,
   "id": "f7b15a0f-cd08-4b50-b672-991be6d8832c",
   "metadata": {},
   "outputs": [
    {
     "data": {
      "text/plain": [
       "13633"
      ]
     },
     "execution_count": 6,
     "metadata": {},
     "output_type": "execute_result"
    }
   ],
   "source": [
    "len(template_count)"
   ]
  },
  {
   "cell_type": "code",
   "execution_count": 7,
   "id": "d1f7a197-2326-41d0-baca-30f0a77aa186",
   "metadata": {},
   "outputs": [
    {
     "data": {
      "text/plain": [
       "1996562"
      ]
     },
     "execution_count": 7,
     "metadata": {},
     "output_type": "execute_result"
    }
   ],
   "source": [
    "# Total templates used (repetitions allowed)\n",
    "template_count.total()"
   ]
  },
  {
   "cell_type": "code",
   "execution_count": 23,
   "id": "385df12f-df49-47d6-9cd3-4fb8c5a570f6",
   "metadata": {},
   "outputs": [
    {
     "data": {
      "text/plain": [
       "[('Long and short scales', 245),\n",
       " ('Richard Nixon', 77),\n",
       " ('Pomona College', 68),\n",
       " ('Jack Kemp', 67),\n",
       " ('Abraham Lincoln', 67),\n",
       " ('Karl Marx', 66),\n",
       " ('Nikita Khrushchev', 66),\n",
       " ('Bill Clinton', 65),\n",
       " ('Nancy Pelosi', 65),\n",
       " ('Warren G. Harding', 65),\n",
       " ('William Howard Taft', 64),\n",
       " ('James G. Blaine', 62),\n",
       " ('Ronald Reagan', 62),\n",
       " ('Isaac Newton', 60),\n",
       " ('William McKinley', 60),\n",
       " ('International System of Units', 59),\n",
       " ('Oscar Wilde', 59),\n",
       " ('Benjamin Harrison', 59),\n",
       " ('Benjamin Disraeli', 59),\n",
       " ('Aarhus', 58),\n",
       " ('Mermaid', 58),\n",
       " ('Margaret Thatcher', 57),\n",
       " ('Woodrow Wilson', 55),\n",
       " ('TRAPPIST-1', 54),\n",
       " ('Beryl May Dent', 54),\n",
       " ('Jim Moran', 53),\n",
       " ('Azerbaijan', 51),\n",
       " ('Kerala', 51),\n",
       " ('Homs', 50),\n",
       " ('Srinivasa Ramanujan', 49),\n",
       " ('Usain Bolt', 49),\n",
       " ('Hannah Arendt', 49),\n",
       " ('Sirius', 49),\n",
       " ('2009 NBA All-Star Game', 48),\n",
       " ('Widener Library', 48),\n",
       " ('2001: A Space Odyssey', 48),\n",
       " ('Jimi Hendrix', 48),\n",
       " ('2006 World Cup of Pool', 47),\n",
       " ('Star Wars: Episode I – The Phantom Menace', 47),\n",
       " ('Bengal famine of 1943', 46),\n",
       " (\"Ender's Game\", 46),\n",
       " ('New Zealand', 46),\n",
       " ('Philippines', 46),\n",
       " ('Mary Magdalene', 46),\n",
       " ('Atomic bombings of Hiroshima and Nagasaki', 46),\n",
       " ('Elvis Presley', 46),\n",
       " ('Fabian Ware', 46),\n",
       " ('W. E. B. Du Bois', 46),\n",
       " (\"London King's Cross railway station\", 45),\n",
       " ('Manhattan', 45),\n",
       " ('Pi', 45),\n",
       " ('Virginia', 45),\n",
       " ('The Holocaust in Slovakia', 45),\n",
       " ('Walking Liberty half dollar', 45),\n",
       " ('Jayne Mansfield', 44),\n",
       " ('Carlos Mesa', 44),\n",
       " ('Doctor Who (series 11)', 44),\n",
       " ('The Hurt Locker', 44),\n",
       " ('H. P. Lovecraft', 44),\n",
       " ('Pluto', 44),\n",
       " ('Byzantine Empire', 44),\n",
       " ('Cleopatra', 44),\n",
       " ('Hamlet', 44),\n",
       " ('Ursula K. Le Guin', 44),\n",
       " ('Franz Schubert', 43),\n",
       " ('Stephen Breyer', 43),\n",
       " ('Leonardo da Vinci', 43),\n",
       " ('Sacred Cod', 43),\n",
       " ('Apollo program', 43),\n",
       " ('Liverpool F.C.', 43),\n",
       " ('King Arthur', 43),\n",
       " ('Hydrochloric acid', 43),\n",
       " ('Catholic Church', 42),\n",
       " ('QAnon', 42),\n",
       " ('Doctor Who (series 12)', 42),\n",
       " ('Missundaztood', 42),\n",
       " ('Krishna', 42),\n",
       " ('Aristotle', 42),\n",
       " ('Black hole', 42),\n",
       " ('In the Zone', 42),\n",
       " ('Hawker Siddeley Harrier', 42),\n",
       " ('Fluorine', 42),\n",
       " ('Proxima Centauri', 42),\n",
       " ('Thomas Carlyle', 41),\n",
       " ('Adolf Hitler', 41),\n",
       " ('Caracalla', 41),\n",
       " ('Lockheed Martin F-35 Lightning II', 41),\n",
       " ('Jane Austen', 41),\n",
       " ('Hong Kong', 41),\n",
       " ('Yoga', 41),\n",
       " ('September 11 attacks', 41),\n",
       " ('English language', 41),\n",
       " ('Henry of Grosmont, Duke of Lancaster', 41),\n",
       " ('Che Guevara', 41),\n",
       " ('Shanghai', 41),\n",
       " ('Supermarine Spitfire', 41),\n",
       " ('American Graffiti', 41),\n",
       " ('The Holocaust', 41),\n",
       " ('Panagiotis Kavvadias', 41),\n",
       " ('Apollo 11', 41)]"
      ]
     },
     "execution_count": 23,
     "metadata": {},
     "output_type": "execute_result"
    }
   ],
   "source": [
    "# Find articles with most templates\n",
    "article_temp_counts = [(a, len(c)) for a, c in temp_counts_by_article.items()]\n",
    "article_temp_counts.sort(key = lambda x: x[1], reverse=True)\n",
    "article_temp_counts[:100]"
   ]
  },
  {
   "cell_type": "code",
   "execution_count": 13,
   "id": "c8fd9e41-4945-4d20-ba77-84a5a4781dab",
   "metadata": {},
   "outputs": [
    {
     "data": {
      "text/plain": [
       "[('lang', 258),\n",
       " ('#tag:ref', 12),\n",
       " ('block indent', 10),\n",
       " ('e', 10),\n",
       " ('div col', 9),\n",
       " ('div col end', 9),\n",
       " ('legend', 6),\n",
       " ('reflist', 4),\n",
       " ('cite web', 3),\n",
       " ('citation needed', 3),\n",
       " ('bel', 3),\n",
       " ('lang-fr', 2),\n",
       " ('can', 2),\n",
       " ('eri', 2),\n",
       " ('flag', 2),\n",
       " ('lang-ms', 2),\n",
       " ('mus', 2),\n",
       " ('syc', 2),\n",
       " ('vut', 2),\n",
       " ('ipa-my', 2)]"
      ]
     },
     "execution_count": 13,
     "metadata": {},
     "output_type": "execute_result"
    }
   ],
   "source": [
    "temp_counts_by_article[\"Long and short scales\"].most_common()[:20]"
   ]
  },
  {
   "cell_type": "code",
   "execution_count": null,
   "id": "316c87bf-2e3a-4539-bc34-c73d1151714f",
   "metadata": {},
   "outputs": [],
   "source": []
  },
  {
   "cell_type": "code",
   "execution_count": 18,
   "id": "d11f821b-3a7f-497e-a74e-3b6f73be6079",
   "metadata": {},
   "outputs": [
    {
     "data": {
      "text/plain": [
       "[('short description', 38062),\n",
       " ('good article', 28476),\n",
       " ('convert', 17574),\n",
       " ('use dmy dates', 15350),\n",
       " ('use mdy dates', 10673),\n",
       " ('sfn', 10278),\n",
       " ('main', 9889),\n",
       " (\"'\", 7904),\n",
       " ('reflist', 7788),\n",
       " ('efn', 6842),\n",
       " ('cite book', 6347),\n",
       " ('see also', 5374),\n",
       " ('use british english', 4963),\n",
       " ('clear', 4906),\n",
       " ('cite web', 4174),\n",
       " ('featured article', 3634),\n",
       " ('col-end', 3553),\n",
       " ('refend', 3443),\n",
       " ('lang', 3428),\n",
       " ('refbegin', 3391),\n",
       " ('about', 3370),\n",
       " ('use american english', 3312),\n",
       " ('blockquote', 3223),\n",
       " ('col-2', 3189),\n",
       " ('col-begin', 3075),\n",
       " ('cite journal', 3022),\n",
       " (\"'s\", 2715),\n",
       " ('further', 2674),\n",
       " ('citation needed', 2408),\n",
       " ('for', 2347),\n",
       " ('refn', 2304),\n",
       " ('inflation', 2208),\n",
       " ('cvt', 2204),\n",
       " ('div col', 2119),\n",
       " ('nbsp', 2116),\n",
       " ('div col end', 2088),\n",
       " ('circa', 2007),\n",
       " ('certification table top', 1975),\n",
       " ('as of', 1971),\n",
       " ('certification table entry', 1969),\n",
       " ('engvarb', 1946),\n",
       " ('certification table bottom', 1894),\n",
       " ('rp', 1894),\n",
       " ('#tag:ref', 1891),\n",
       " ('cite news', 1878),\n",
       " ('quote', 1803),\n",
       " ('redirect', 1737),\n",
       " ('track listing', 1720),\n",
       " ('sclass', 1610),\n",
       " ('ship', 1579)]"
      ]
     },
     "execution_count": 18,
     "metadata": {},
     "output_type": "execute_result"
    }
   ],
   "source": [
    "# Find templates used in the most articles\n",
    "articles_by_temp = {}\n",
    "for a, c in temp_counts_by_article.items():\n",
    "    for temp, count in c.most_common():\n",
    "        if temp not in articles_by_temp:\n",
    "            articles_by_temp[temp] = {a}\n",
    "            continue\n",
    "        articles_by_temp[temp].add(a)\n",
    "\n",
    "articles_by_temp_ls = list(articles_by_temp.items())\n",
    "articles_by_temp_ls.sort(key = lambda x: len(x[1]), reverse=True)\n",
    "most_popular_temps = [(e[0], len(e[1])) for e in articles_by_temp_ls]\n",
    "most_popular_temps[:50]"
   ]
  },
  {
   "cell_type": "code",
   "execution_count": 21,
   "id": "8bf40ddc-a655-451f-bcc6-27a6a40e8eb7",
   "metadata": {},
   "outputs": [],
   "source": [
    "# Save most popular temps (templates used by the most articles) to disk\n",
    "with open(\"../metrics/temps_used_by_most_articles.txt\", \"w\") as f:\n",
    "    for el in most_popular_temps:\n",
    "        f.write(f\"{el[0]}, {el[1]}\\n\")"
   ]
  },
  {
   "cell_type": "code",
   "execution_count": 8,
   "id": "cabfb1f1-0706-4575-b5e7-7e5b50619431",
   "metadata": {},
   "outputs": [],
   "source": [
    "# Save template count to disk\n",
    "with open(\"../metrics/template_counts_raw.txt\", \"w\") as f:\n",
    "    for el in template_count.most_common():\n",
    "        f.write(f\"{el[0]} {el[1]}\\n\")"
   ]
  },
  {
   "cell_type": "markdown",
   "id": "6f7bfc67-8248-459e-a185-5b7b65784bd4",
   "metadata": {},
   "source": [
    "## Count tags"
   ]
  },
  {
   "cell_type": "code",
   "execution_count": 9,
   "id": "18c38f41-c0a8-4f82-8954-8447861c53c4",
   "metadata": {},
   "outputs": [
    {
     "name": "stderr",
     "output_type": "stream",
     "text": [
      "100%|█████████████████████████████████████████| 348/348 [03:12<00:00,  1.81it/s]\n"
     ]
    }
   ],
   "source": [
    "tag_count, tag_counts_by_article = count_tags(data_file)"
   ]
  },
  {
   "cell_type": "code",
   "execution_count": 13,
   "id": "bed25da4-9ef7-49f7-a588-f01650220f87",
   "metadata": {},
   "outputs": [
    {
     "data": {
      "text/plain": [
       "[('i', 1321390),\n",
       " ('li', 485356),\n",
       " ('b', 126186),\n",
       " ('ref', 26777),\n",
       " ('dd', 20148),\n",
       " ('br', 15656),\n",
       " ('sub', 13007),\n",
       " ('small', 12500),\n",
       " ('sup', 11351),\n",
       " ('math', 11252),\n",
       " ('dt', 9080),\n",
       " ('blockquote', 5825),\n",
       " ('nowiki', 4077),\n",
       " ('gallery', 2462),\n",
       " ('span', 2378),\n",
       " ('div', 1214),\n",
       " ('code', 671),\n",
       " ('poem', 500),\n",
       " ('hr', 474),\n",
       " ('u', 366),\n",
       " ('timeline', 300),\n",
       " ('onlyinclude', 297),\n",
       " ('section', 281),\n",
       " ('big', 225),\n",
       " ('noinclude', 144),\n",
       " ('syntaxhighlight', 129),\n",
       " ('references', 127),\n",
       " ('score', 123),\n",
       " ('chem', 121),\n",
       " ('td', 92),\n",
       " ('cite', 66),\n",
       " ('imagemap', 58),\n",
       " ('p', 47),\n",
       " ('tr', 47),\n",
       " ('abbr', 44),\n",
       " ('em', 42),\n",
       " ('hiero', 38),\n",
       " ('ol', 38),\n",
       " ('s', 37),\n",
       " ('var', 32),\n",
       " ('q', 24),\n",
       " ('includeonly', 24),\n",
       " ('pre', 17),\n",
       " ('th', 17),\n",
       " ('mapframe', 15),\n",
       " ('ul', 12),\n",
       " ('dfn', 10),\n",
       " ('ce', 6),\n",
       " ('kbd', 5),\n",
       " ('table', 5),\n",
       " ('graph', 3),\n",
       " ('mark', 3),\n",
       " ('wbr', 2),\n",
       " ('strong', 1),\n",
       " ('bdi', 1),\n",
       " ('ins', 1),\n",
       " ('center', 1)]"
      ]
     },
     "execution_count": 13,
     "metadata": {},
     "output_type": "execute_result"
    }
   ],
   "source": [
    "tag_count.most_common()"
   ]
  },
  {
   "cell_type": "code",
   "execution_count": 14,
   "id": "04158d85-bbc8-4d8e-8573-54a2de21ec83",
   "metadata": {},
   "outputs": [
    {
     "data": {
      "text/plain": [
       "57"
      ]
     },
     "execution_count": 14,
     "metadata": {},
     "output_type": "execute_result"
    }
   ],
   "source": [
    "len(tag_count)"
   ]
  },
  {
   "cell_type": "code",
   "execution_count": 15,
   "id": "8f9805f8-cfd6-4b3d-bc8f-cf7dc4162731",
   "metadata": {},
   "outputs": [
    {
     "data": {
      "text/plain": [
       "2073105"
      ]
     },
     "execution_count": 15,
     "metadata": {},
     "output_type": "execute_result"
    }
   ],
   "source": [
    "tag_count.total()"
   ]
  },
  {
   "cell_type": "code",
   "execution_count": null,
   "id": "c18ee02b-7d9d-4b95-b508-77fd2b1a0e26",
   "metadata": {},
   "outputs": [],
   "source": []
  }
 ],
 "metadata": {
  "kernelspec": {
   "display_name": "Python 3 (ipykernel)",
   "language": "python",
   "name": "python3"
  },
  "language_info": {
   "codemirror_mode": {
    "name": "ipython",
    "version": 3
   },
   "file_extension": ".py",
   "mimetype": "text/x-python",
   "name": "python",
   "nbconvert_exporter": "python",
   "pygments_lexer": "ipython3",
   "version": "3.11.1"
  }
 },
 "nbformat": 4,
 "nbformat_minor": 5
}
